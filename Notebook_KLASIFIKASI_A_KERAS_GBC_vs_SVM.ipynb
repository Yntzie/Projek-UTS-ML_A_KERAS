{
 "cells": [
  {
   "cell_type": "markdown",
   "id": "86cac140",
   "metadata": {},
   "source": [
    "IMPORT LIBRARY"
   ]
  },
  {
   "cell_type": "code",
   "execution_count": 43,
   "id": "67524965",
   "metadata": {},
   "outputs": [],
   "source": [
    "# 1️⃣ Import Library\n",
    "import pandas as pd\n",
    "import numpy as np\n",
    "import matplotlib.pyplot as plt\n",
    "\n",
    "from sklearn.model_selection import train_test_split, StratifiedKFold, GridSearchCV\n",
    "from sklearn.preprocessing import StandardScaler, MinMaxScaler\n",
    "from sklearn.feature_selection import SelectKBest, SelectPercentile, f_classif\n",
    "from sklearn.pipeline import Pipeline\n",
    "from sklearn.feature_selection import mutual_info_classif\n",
    "\n",
    "from sklearn.metrics import (\n",
    "    classification_report,\n",
    "    confusion_matrix,\n",
    "    ConfusionMatrixDisplay,\n",
    "    accuracy_score,\n",
    ")\n",
    "from sklearn.ensemble import GradientBoostingClassifier\n",
    "from sklearn.svm import SVC\n",
    "import pickle"
   ]
  },
  {
   "cell_type": "markdown",
   "id": "d28a0daa",
   "metadata": {},
   "source": [
    "# **Load Data**"
   ]
  },
  {
   "cell_type": "code",
   "execution_count": 44,
   "id": "5e2763ea",
   "metadata": {},
   "outputs": [
    {
     "data": {
      "text/html": [
       "<div>\n",
       "<style scoped>\n",
       "    .dataframe tbody tr th:only-of-type {\n",
       "        vertical-align: middle;\n",
       "    }\n",
       "\n",
       "    .dataframe tbody tr th {\n",
       "        vertical-align: top;\n",
       "    }\n",
       "\n",
       "    .dataframe thead th {\n",
       "        text-align: right;\n",
       "    }\n",
       "</style>\n",
       "<table border=\"1\" class=\"dataframe\">\n",
       "  <thead>\n",
       "    <tr style=\"text-align: right;\">\n",
       "      <th></th>\n",
       "      <th>magnitude</th>\n",
       "      <th>cdi</th>\n",
       "      <th>mmi</th>\n",
       "      <th>sig</th>\n",
       "      <th>nst</th>\n",
       "      <th>dmin</th>\n",
       "      <th>gap</th>\n",
       "      <th>depth</th>\n",
       "      <th>latitude</th>\n",
       "      <th>longitude</th>\n",
       "      <th>Year</th>\n",
       "      <th>Month</th>\n",
       "      <th>tsunami</th>\n",
       "    </tr>\n",
       "  </thead>\n",
       "  <tbody>\n",
       "    <tr>\n",
       "      <th>0</th>\n",
       "      <td>7.0</td>\n",
       "      <td>8</td>\n",
       "      <td>7</td>\n",
       "      <td>768</td>\n",
       "      <td>117</td>\n",
       "      <td>0.509</td>\n",
       "      <td>17.0</td>\n",
       "      <td>14.000</td>\n",
       "      <td>-9.7963</td>\n",
       "      <td>159.596</td>\n",
       "      <td>2022</td>\n",
       "      <td>11</td>\n",
       "      <td>1</td>\n",
       "    </tr>\n",
       "    <tr>\n",
       "      <th>1</th>\n",
       "      <td>6.9</td>\n",
       "      <td>4</td>\n",
       "      <td>4</td>\n",
       "      <td>735</td>\n",
       "      <td>99</td>\n",
       "      <td>2.229</td>\n",
       "      <td>34.0</td>\n",
       "      <td>25.000</td>\n",
       "      <td>-4.9559</td>\n",
       "      <td>100.738</td>\n",
       "      <td>2022</td>\n",
       "      <td>11</td>\n",
       "      <td>0</td>\n",
       "    </tr>\n",
       "    <tr>\n",
       "      <th>2</th>\n",
       "      <td>7.0</td>\n",
       "      <td>3</td>\n",
       "      <td>3</td>\n",
       "      <td>755</td>\n",
       "      <td>147</td>\n",
       "      <td>3.125</td>\n",
       "      <td>18.0</td>\n",
       "      <td>579.000</td>\n",
       "      <td>-20.0508</td>\n",
       "      <td>-178.346</td>\n",
       "      <td>2022</td>\n",
       "      <td>11</td>\n",
       "      <td>1</td>\n",
       "    </tr>\n",
       "    <tr>\n",
       "      <th>3</th>\n",
       "      <td>7.3</td>\n",
       "      <td>5</td>\n",
       "      <td>5</td>\n",
       "      <td>833</td>\n",
       "      <td>149</td>\n",
       "      <td>1.865</td>\n",
       "      <td>21.0</td>\n",
       "      <td>37.000</td>\n",
       "      <td>-19.2918</td>\n",
       "      <td>-172.129</td>\n",
       "      <td>2022</td>\n",
       "      <td>11</td>\n",
       "      <td>1</td>\n",
       "    </tr>\n",
       "    <tr>\n",
       "      <th>4</th>\n",
       "      <td>6.6</td>\n",
       "      <td>0</td>\n",
       "      <td>2</td>\n",
       "      <td>670</td>\n",
       "      <td>131</td>\n",
       "      <td>4.998</td>\n",
       "      <td>27.0</td>\n",
       "      <td>624.464</td>\n",
       "      <td>-25.5948</td>\n",
       "      <td>178.278</td>\n",
       "      <td>2022</td>\n",
       "      <td>11</td>\n",
       "      <td>1</td>\n",
       "    </tr>\n",
       "  </tbody>\n",
       "</table>\n",
       "</div>"
      ],
      "text/plain": [
       "   magnitude  cdi  mmi  sig  nst   dmin   gap    depth  latitude  longitude  \\\n",
       "0        7.0    8    7  768  117  0.509  17.0   14.000   -9.7963    159.596   \n",
       "1        6.9    4    4  735   99  2.229  34.0   25.000   -4.9559    100.738   \n",
       "2        7.0    3    3  755  147  3.125  18.0  579.000  -20.0508   -178.346   \n",
       "3        7.3    5    5  833  149  1.865  21.0   37.000  -19.2918   -172.129   \n",
       "4        6.6    0    2  670  131  4.998  27.0  624.464  -25.5948    178.278   \n",
       "\n",
       "   Year  Month  tsunami  \n",
       "0  2022     11        1  \n",
       "1  2022     11        0  \n",
       "2  2022     11        1  \n",
       "3  2022     11        1  \n",
       "4  2022     11        1  "
      ]
     },
     "execution_count": 44,
     "metadata": {},
     "output_type": "execute_result"
    }
   ],
   "source": [
    "# 2️⃣ Load Dataset\n",
    "df_tsunami = pd.read_csv(\"dataset/earthquake_data_tsunami.csv\", header=0)\n",
    "# print(\"Jumlah data:\", df_tsunami.shape)\n",
    "df_tsunami.head()"
   ]
  },
  {
   "cell_type": "code",
   "execution_count": 45,
   "id": "4f6cfd46",
   "metadata": {},
   "outputs": [
    {
     "name": "stdout",
     "output_type": "stream",
     "text": [
      "Jumlah baris, kolom : <bound method DataFrame.info of      magnitude  cdi  mmi  sig  nst   dmin   gap    depth  latitude  longitude  \\\n",
      "0          7.0    8    7  768  117  0.509  17.0   14.000   -9.7963    159.596   \n",
      "1          6.9    4    4  735   99  2.229  34.0   25.000   -4.9559    100.738   \n",
      "2          7.0    3    3  755  147  3.125  18.0  579.000  -20.0508   -178.346   \n",
      "3          7.3    5    5  833  149  1.865  21.0   37.000  -19.2918   -172.129   \n",
      "4          6.6    0    2  670  131  4.998  27.0  624.464  -25.5948    178.278   \n",
      "..         ...  ...  ...  ...  ...    ...   ...      ...       ...        ...   \n",
      "777        7.7    0    8  912  427  0.000   0.0   60.000   13.0490    -88.660   \n",
      "778        6.9    5    7  745    0  0.000   0.0   36.400   56.7744   -153.281   \n",
      "779        7.1    0    7  776  372  0.000   0.0  103.000  -14.9280    167.170   \n",
      "780        6.8    0    5  711   64  0.000   0.0   33.000    6.6310    126.899   \n",
      "781        7.5    0    7  865  324  0.000   0.0   33.000    6.8980    126.579   \n",
      "\n",
      "     Year  Month  tsunami  \n",
      "0    2022     11        1  \n",
      "1    2022     11        0  \n",
      "2    2022     11        1  \n",
      "3    2022     11        1  \n",
      "4    2022     11        1  \n",
      "..    ...    ...      ...  \n",
      "777  2001      1        0  \n",
      "778  2001      1        0  \n",
      "779  2001      1        0  \n",
      "780  2001      1        0  \n",
      "781  2001      1        0  \n",
      "\n",
      "[782 rows x 13 columns]>\n",
      "\n",
      "Tipe Data : \n",
      "magnitude    float64\n",
      "cdi            int64\n",
      "mmi            int64\n",
      "sig            int64\n",
      "nst            int64\n",
      "dmin         float64\n",
      "gap          float64\n",
      "depth        float64\n",
      "latitude     float64\n",
      "longitude    float64\n",
      "Year           int64\n",
      "Month          int64\n",
      "tsunami        int64\n",
      "dtype: object\n"
     ]
    }
   ],
   "source": [
    "print(\"Jumlah baris, kolom :\", df_tsunami.info)\n",
    "print(\"\\nTipe Data : \")\n",
    "print(df_tsunami.dtypes)"
   ]
  },
  {
   "cell_type": "markdown",
   "id": "5fe0eafe",
   "metadata": {},
   "source": [
    "# **Pembersihan Data**"
   ]
  },
  {
   "cell_type": "markdown",
   "id": "58b205b1",
   "metadata": {},
   "source": [
    "# Menangani Data duplikat dan Missing Value"
   ]
  },
  {
   "cell_type": "code",
   "execution_count": null,
   "id": "38e745bc",
   "metadata": {},
   "outputs": [
    {
     "name": "stdout",
     "output_type": "stream",
     "text": [
      "Jumlah nilai kosong per Kolom:\n",
      " magnitude    0\n",
      "cdi          0\n",
      "mmi          0\n",
      "sig          0\n",
      "nst          0\n",
      "dmin         0\n",
      "gap          0\n",
      "depth        0\n",
      "latitude     0\n",
      "longitude    0\n",
      "Year         0\n",
      "Month        0\n",
      "tsunami      0\n",
      "dtype: int64\n"
     ]
    }
   ],
   "source": [
    "print(\"Jumlah nilai kosong per Kolom:\\n\", df_tsunami.isnull().sum())\n",
    "\n"
   ]
  },
  {
   "cell_type": "code",
   "execution_count": 47,
   "id": "1602891e",
   "metadata": {},
   "outputs": [
    {
     "name": "stdout",
     "output_type": "stream",
     "text": [
      "Jumlah duplikat: 0\n",
      "Bentuk data sebelum/sesudah hapus duplikat: (782, 13) -> (782, 13)\n"
     ]
    },
    {
     "name": "stderr",
     "output_type": "stream",
     "text": [
      "/var/folders/7b/fkg9tk2j3fnd9j30kllh7bmr0000gp/T/ipykernel_49247/1074747789.py:9: MatplotlibDeprecationWarning: The 'labels' parameter of boxplot() has been renamed 'tick_labels' since Matplotlib 3.9; support for the old name will be dropped in 3.11.\n",
      "  plt.boxplot([df_tsunami['magnitude'], df_tsunami['depth'], df_tsunami['sig'], df_tsunami['mmi'], df_tsunami['cdi']],\n"
     ]
    },
    {
     "data": {
      "image/png": "[encoded data removed]",
      "text/plain": [
       "<Figure size 800x400 with 1 Axes>"
      ]
     },
     "metadata": {},
     "output_type": "display_data"
    }
   ],
   "source": [
    "# Hapus duplikat \n",
    "print(\"Jumlah duplikat:\", df_tsunami.duplicated().sum())\n",
    "before = df_tsunami.shape\n",
    "df_tsunami = df_tsunami.drop_duplicates(keep='first')\n",
    "print(\"Bentuk data sebelum/sesudah hapus duplikat:\", before, \"->\", df_tsunami.shape)\n",
    "\n",
    "# Menampilkan Data Outlier\n",
    "plt.figure(figsize=(8,4))\n",
    "plt.boxplot([df_tsunami['magnitude'], df_tsunami['depth'], df_tsunami['sig'], df_tsunami['mmi'], df_tsunami['cdi']],\n",
    "            labels=['magnitude','depth','sig','mmi','cdi'])\n",
    "plt.title(\"Boxplot Deteksi Outlier pada Fitur Numerik\")\n",
    "plt.ylabel(\"Nilai\")\n",
    "plt.show()"
   ]
  },
  {
   "cell_type": "markdown",
   "id": "fa15fc62",
   "metadata": {},
   "source": [
    "# **Pisahkan Fitur & Target**"
   ]
  },
  {
   "cell_type": "code",
   "execution_count": 48,
   "id": "d8155d8c",
   "metadata": {},
   "outputs": [],
   "source": [
    "features = ['magnitude', 'depth', 'latitude', 'longitude', 'sig', 'mmi', 'cdi']\n",
    "target = 'tsunami'\n",
    "X = df_tsunami[features]\n",
    "y = df_tsunami[target]"
   ]
  },
  {
   "cell_type": "markdown",
   "id": "958a4648",
   "metadata": {},
   "source": [
    "# **Train Test Split**"
   ]
  },
  {
   "cell_type": "code",
   "execution_count": 49,
   "id": "f1f56cda",
   "metadata": {},
   "outputs": [
    {
     "name": "stdout",
     "output_type": "stream",
     "text": [
      "Ukuran X_train, X_test : (625, 7) (157, 7)\n"
     ]
    }
   ],
   "source": [
    "X_train, X_test, y_train, y_test = train_test_split(\n",
    "    X, y, test_size=0.2, random_state=98, stratify=y\n",
    ")\n",
    "print(\"Ukuran X_train, X_test :\", X_train.shape, X_test.shape)\n",
    "\n",
    "cv = StratifiedKFold(n_splits=5, shuffle=True, random_state=98)"
   ]
  },
  {
   "cell_type": "markdown",
   "id": "5fd64802",
   "metadata": {},
   "source": [
    "**Membangun Model Gradient Boosting Classifier dengan pipeline**"
   ]
  },
  {
   "cell_type": "code",
   "execution_count": 50,
   "id": "bb8d2b57",
   "metadata": {},
   "outputs": [
    {
     "name": "stdout",
     "output_type": "stream",
     "text": [
      "Fitting 5 folds for each of 96 candidates, totalling 480 fits\n",
      "\n",
      "🔹 Best Parameters (Gradient Boosting):\n",
      "{'clf__learning_rate': 0.1, 'clf__max_depth': 2, 'clf__n_estimators': 150, 'scaler': StandardScaler(), 'selector': SelectKBest(score_func=<function mutual_info_classif at 0x1306f87c0>), 'selector__k': 'all'}\n",
      "Best CV Accuracy: 0.7327999999999999\n"
     ]
    }
   ],
   "source": [
    "pipe_gb = Pipeline([\n",
    "    ('scaler', StandardScaler()),\n",
    "    ('selector', SelectKBest(score_func=f_classif)),\n",
    "    ('clf', GradientBoostingClassifier(random_state=21))\n",
    "])\n",
    "\n",
    "param_grid_gb = [\n",
    "    {\n",
    "        'scaler': [StandardScaler(), MinMaxScaler()],\n",
    "        'selector': [SelectKBest(score_func=mutual_info_classif)],\n",
    "        'selector__k': [3, 5, 'all'],\n",
    "        'clf__n_estimators': [100, 150],\n",
    "        'clf__learning_rate': [0.05, 0.1],\n",
    "        'clf__max_depth': [2, 3]\n",
    "    },\n",
    "    {\n",
    "        'scaler': [StandardScaler(), MinMaxScaler()],\n",
    "        'selector': [SelectPercentile(score_func=mutual_info_classif)],\n",
    "        'selector__percentile': [50, 70, 100],\n",
    "        'clf__n_estimators': [100, 150],\n",
    "        'clf__learning_rate': [0.05, 0.1],\n",
    "        'clf__max_depth': [2, 3]\n",
    "    }\n",
    "]\n",
    "\n",
    "\n",
    "grid_gb = GridSearchCV(\n",
    "    estimator=pipe_gb,\n",
    "    param_grid=param_grid_gb,\n",
    "    cv=cv,\n",
    "    scoring='accuracy',\n",
    "    n_jobs=-1,\n",
    "    verbose=1\n",
    ")\n",
    "grid_gb.fit(X_train, y_train)\n",
    "\n",
    "print(\"\\n🔹 Best Parameters (Gradient Boosting):\")\n",
    "print(grid_gb.best_params_)\n",
    "print(\"Best CV Accuracy:\", grid_gb.best_score_)\n"
   ]
  },
  {
   "cell_type": "markdown",
   "id": "b1184b18",
   "metadata": {},
   "source": [
    "Support Vector Machine"
   ]
  },
  {
   "cell_type": "code",
   "execution_count": 51,
   "id": "fb3ae7e5",
   "metadata": {},
   "outputs": [
    {
     "name": "stdout",
     "output_type": "stream",
     "text": [
      "Fitting 5 folds for each of 144 candidates, totalling 720 fits\n",
      "\n",
      "🔹 Best Parameters (SVM):\n",
      "{'clf__C': 10, 'clf__gamma': 'auto', 'clf__kernel': 'rbf', 'scaler': StandardScaler(), 'selector': SelectKBest(score_func=<function mutual_info_classif at 0x1306f87c0>), 'selector__k': 3}\n",
      "Best CV Accuracy: 0.7008000000000001\n"
     ]
    }
   ],
   "source": [
    "pipe_svm = Pipeline([\n",
    "    ('scaler', StandardScaler()),\n",
    "    ('selector', SelectKBest(score_func=f_classif)),\n",
    "    ('clf', SVC())\n",
    "])\n",
    "\n",
    "param_grid_svm = [\n",
    "    {\n",
    "        'scaler': [StandardScaler(), MinMaxScaler()],\n",
    "        'selector': [SelectKBest(score_func=mutual_info_classif)],\n",
    "        'selector__k': [3, 5, 'all'],\n",
    "        'clf__C': [0.1, 1, 10],\n",
    "        'clf__kernel': ['linear', 'rbf'],\n",
    "        'clf__gamma': ['scale', 'auto']\n",
    "    },\n",
    "    {\n",
    "        'scaler': [StandardScaler(), MinMaxScaler()],\n",
    "        'selector': [SelectPercentile(score_func=mutual_info_classif)],\n",
    "        'selector__percentile': [50, 70, 100],\n",
    "        'clf__C': [0.1, 1, 10],\n",
    "        'clf__kernel': ['linear', 'rbf'],\n",
    "        'clf__gamma': ['scale', 'auto']\n",
    "    }\n",
    "]\n",
    "\n",
    "\n",
    "grid_svm = GridSearchCV(\n",
    "    estimator=pipe_svm,\n",
    "    param_grid=param_grid_svm,\n",
    "    cv=cv,\n",
    "    scoring='accuracy',\n",
    "    n_jobs=-1,\n",
    "    verbose=1\n",
    ")\n",
    "grid_svm.fit(X_train, y_train)\n",
    "\n",
    "print(\"\\n🔹 Best Parameters (SVM):\")\n",
    "print(grid_svm.best_params_)\n",
    "print(\"Best CV Accuracy:\", grid_svm.best_score_)"
   ]
  },
  {
   "cell_type": "markdown",
   "id": "c75753a9",
   "metadata": {},
   "source": [
    "# **Evaluasi**\n"
   ]
  },
  {
   "cell_type": "code",
   "execution_count": 52,
   "id": "86f66a0e",
   "metadata": {},
   "outputs": [
    {
     "name": "stdout",
     "output_type": "stream",
     "text": [
      "\n",
      "📊 Gradient Boosting Performance:\n",
      "              precision    recall  f1-score   support\n",
      "\n",
      "           0       0.77      0.82      0.79        96\n",
      "           1       0.69      0.61      0.64        61\n",
      "\n",
      "    accuracy                           0.74       157\n",
      "   macro avg       0.73      0.71      0.72       157\n",
      "weighted avg       0.74      0.74      0.74       157\n",
      "\n",
      "Accuracy: 0.7388535031847133\n",
      "\n",
      "📊 SVM Performance:\n",
      "              precision    recall  f1-score   support\n",
      "\n",
      "           0       0.80      0.82      0.81        96\n",
      "           1       0.71      0.67      0.69        61\n",
      "\n",
      "    accuracy                           0.76       157\n",
      "   macro avg       0.75      0.75      0.75       157\n",
      "weighted avg       0.76      0.76      0.76       157\n",
      "\n",
      "Accuracy: 0.7643312101910829\n"
     ]
    },
    {
     "data": {
      "image/png": "[encoded data removed]",
      "text/plain": [
       "<Figure size 1200x500 with 4 Axes>"
      ]
     },
     "metadata": {},
     "output_type": "display_data"
    }
   ],
   "source": [
    "best_gb = grid_gb.best_estimator_\n",
    "best_svm = grid_svm.best_estimator_\n",
    "\n",
    "y_pred_gb = best_gb.predict(X_test)\n",
    "y_pred_svm = best_svm.predict(X_test)\n",
    "\n",
    "print(\"\\n📊 Gradient Boosting Performance:\")\n",
    "print(classification_report(y_test, y_pred_gb))\n",
    "print(\"Accuracy:\", accuracy_score(y_test, y_pred_gb))\n",
    "\n",
    "print(\"\\n📊 SVM Performance:\")\n",
    "print(classification_report(y_test, y_pred_svm))\n",
    "print(\"Accuracy:\", accuracy_score(y_test, y_pred_svm))\n",
    "\n",
    "\n",
    "# Confusion Matrix & Classifitcation Report\n",
    "fig, ax = plt.subplots(1, 2, figsize=(12, 5))\n",
    "ConfusionMatrixDisplay.from_predictions(y_test, y_pred_gb, cmap='Blues', ax=ax[0])\n",
    "ax[0].set_title(\"Gradient Boosting Classifier\")\n",
    "ConfusionMatrixDisplay.from_predictions(y_test, y_pred_svm, cmap='Greens', ax=ax[1])\n",
    "ax[1].set_title(\"Support Vector Machine\")\n",
    "plt.show()"
   ]
  },
  {
   "cell_type": "markdown",
   "id": "702b4981",
   "metadata": {},
   "source": [
    "# Visualisasi Perbandingan Model"
   ]
  },
  {
   "cell_type": "code",
   "execution_count": 53,
   "id": "88da8ddb",
   "metadata": {},
   "outputs": [
    {
     "data": {
      "text/html": [
       "<div>\n",
       "<style scoped>\n",
       "    .dataframe tbody tr th:only-of-type {\n",
       "        vertical-align: middle;\n",
       "    }\n",
       "\n",
       "    .dataframe tbody tr th {\n",
       "        vertical-align: top;\n",
       "    }\n",
       "\n",
       "    .dataframe thead th {\n",
       "        text-align: right;\n",
       "    }\n",
       "</style>\n",
       "<table border=\"1\" class=\"dataframe\">\n",
       "  <thead>\n",
       "    <tr style=\"text-align: right;\">\n",
       "      <th></th>\n",
       "      <th>Accuracy</th>\n",
       "      <th>Precision</th>\n",
       "      <th>Recall</th>\n",
       "      <th>F1-Score</th>\n",
       "    </tr>\n",
       "  </thead>\n",
       "  <tbody>\n",
       "    <tr>\n",
       "      <th>Gradient Boosting</th>\n",
       "      <td>0.738854</td>\n",
       "      <td>0.685185</td>\n",
       "      <td>0.606557</td>\n",
       "      <td>0.643478</td>\n",
       "    </tr>\n",
       "    <tr>\n",
       "      <th>SVM</th>\n",
       "      <td>0.764331</td>\n",
       "      <td>0.706897</td>\n",
       "      <td>0.672131</td>\n",
       "      <td>0.689076</td>\n",
       "    </tr>\n",
       "  </tbody>\n",
       "</table>\n",
       "</div>"
      ],
      "text/plain": [
       "                   Accuracy  Precision    Recall  F1-Score\n",
       "Gradient Boosting  0.738854   0.685185  0.606557  0.643478\n",
       "SVM                0.764331   0.706897  0.672131  0.689076"
      ]
     },
     "metadata": {},
     "output_type": "display_data"
    },
    {
     "data": {
      "image/png": "[encoded data removed]",
      "text/plain": [
       "<Figure size 800x500 with 1 Axes>"
      ]
     },
     "metadata": {},
     "output_type": "display_data"
    },
    {
     "data": {
      "image/png": "[encoded data removed]",
      "text/plain": [
       "<Figure size 1600x400 with 3 Axes>"
      ]
     },
     "metadata": {},
     "output_type": "display_data"
    }
   ],
   "source": [
    "# ==============================================================\n",
    "# 🔹 Perbandingan Kinerja Model\n",
    "# ==============================================================\n",
    "\n",
    "from sklearn.metrics import precision_score, recall_score, f1_score\n",
    "\n",
    "metrics_gb = {\n",
    "    \"Accuracy\": accuracy_score(y_test, y_pred_gb),\n",
    "    \"Precision\": precision_score(y_test, y_pred_gb),\n",
    "    \"Recall\": recall_score(y_test, y_pred_gb),\n",
    "    \"F1-Score\": f1_score(y_test, y_pred_gb)\n",
    "}\n",
    "\n",
    "metrics_svm = {\n",
    "    \"Accuracy\": accuracy_score(y_test, y_pred_svm),\n",
    "    \"Precision\": precision_score(y_test, y_pred_svm),\n",
    "    \"Recall\": recall_score(y_test, y_pred_svm),\n",
    "    \"F1-Score\": f1_score(y_test, y_pred_svm)\n",
    "}\n",
    "\n",
    "df_compare = pd.DataFrame([metrics_gb, metrics_svm], index=[\"Gradient Boosting\", \"SVM\"])\n",
    "display(df_compare)\n",
    "\n",
    "plt.figure(figsize=(8,5))\n",
    "x = np.arange(len(df_compare.columns))\n",
    "width = 0.35\n",
    "plt.bar(x - width/2, df_compare.loc[\"Gradient Boosting\"], width, label=\"Gradient Boosting\", color=\"#4C72B0\")\n",
    "plt.bar(x + width/2, df_compare.loc[\"SVM\"], width, label=\"SVM\", color=\"#55A868\")\n",
    "plt.xticks(x, df_compare.columns)\n",
    "plt.ylim(0, 1)\n",
    "plt.ylabel(\"Score\")\n",
    "plt.title(\"Perbandingan Kinerja Model: Gradient Boosting vs SVM\")\n",
    "plt.legend()\n",
    "plt.grid(axis=\"y\", linestyle=\"--\", alpha=0.6)\n",
    "plt.show()\n",
    "\n",
    "fig, (ax1, ax2, ax3) = plt.subplots(ncols=3, figsize=(16, 4))"
   ]
  },
  {
   "cell_type": "markdown",
   "id": "a1084f9d",
   "metadata": {},
   "source": [
    "**Feature dengan score tertinggi**"
   ]
  },
  {
   "cell_type": "code",
   "execution_count": 54,
   "id": "8591bab1",
   "metadata": {},
   "outputs": [
    {
     "name": "stdout",
     "output_type": "stream",
     "text": [
      "\n",
      "📈 Feature Importance (GBC):\n",
      "     Feature     Score\n",
      "3  longitude  0.180868\n",
      "2   latitude  0.081904\n",
      "6        cdi  0.047114\n",
      "4        sig  0.040214\n",
      "5        mmi  0.027972\n",
      "0  magnitude  0.019633\n",
      "1      depth  0.003674\n",
      "\n",
      "📈 Feature Importance (SVM):\n",
      "     Feature     Score\n",
      "3  longitude  0.181535\n",
      "2   latitude  0.081904\n",
      "6        cdi  0.031750\n",
      "5        mmi  0.027573\n",
      "1      depth  0.009910\n",
      "0  magnitude  0.000000\n",
      "4        sig  0.000000\n"
     ]
    }
   ],
   "source": [
    "selector_gb = grid_gb.best_estimator_.named_steps['selector']\n",
    "selector_svm = grid_svm.best_estimator_.named_steps['selector']\n",
    "\n",
    "feature_scores_gb = pd.DataFrame({\n",
    "    'Feature': X.columns,\n",
    "    'Score': selector_gb.scores_\n",
    "}).sort_values(by='Score', ascending=False)\n",
    "\n",
    "feature_scores_svm = pd.DataFrame({\n",
    "    'Feature': X.columns,\n",
    "    'Score': selector_svm.scores_\n",
    "}).sort_values(by='Score', ascending=False)\n",
    "\n",
    "print(\"\\n📈 Feature Importance (GBC):\")\n",
    "print(feature_scores_gb)\n",
    "\n",
    "print(\"\\n📈 Feature Importance (SVM):\")\n",
    "print(feature_scores_svm)"
   ]
  },
  {
   "cell_type": "markdown",
   "id": "77f23960",
   "metadata": {},
   "source": [
    "# **Model Terbaik**"
   ]
  },
  {
   "cell_type": "code",
   "execution_count": 55,
   "id": "5960a92a",
   "metadata": {},
   "outputs": [
    {
     "name": "stdout",
     "output_type": "stream",
     "text": [
      "\n",
      "✅ Model terbaik: SVM\n",
      "✅ File tersimpan sebagai: BestModel_CLF_SVM_KelompokTsunami.pkl\n"
     ]
    }
   ],
   "source": [
    "acc_gb = accuracy_score(y_test, y_pred_gb)\n",
    "acc_svm = accuracy_score(y_test, y_pred_svm)\n",
    "\n",
    "if acc_gb >= acc_svm:\n",
    "    best_model = best_gb\n",
    "    best_name = \"GradientBoosting\"\n",
    "else:\n",
    "    best_model = best_svm\n",
    "    best_name = \"SVM\"\n",
    "\n",
    "with open(f\"BestModel_CLF_{best_name}_KelompokTsunami.pkl\", \"wb\") as f:\n",
    "    pickle.dump(best_model, f)\n",
    "\n",
    "print(f\"\\n✅ Model terbaik: {best_name}\")\n",
    "print(f\"✅ File tersimpan sebagai: BestModel_CLF_{best_name}_KelompokTsunami.pkl\")"
   ]
  }
 ],
 "metadata": {
  "kernelspec": {
   "display_name": ".venv",
   "language": "python",
   "name": "python3"
  },
  "language_info": {
   "codemirror_mode": {
    "name": "ipython",
    "version": 3
   },
   "file_extension": ".py",
   "mimetype": "text/x-python",
   "name": "python",
   "nbconvert_exporter": "python",
   "pygments_lexer": "ipython3",
   "version": "3.12.7"
  }
 },
 "nbformat": 4,
 "nbformat_minor": 5
}
