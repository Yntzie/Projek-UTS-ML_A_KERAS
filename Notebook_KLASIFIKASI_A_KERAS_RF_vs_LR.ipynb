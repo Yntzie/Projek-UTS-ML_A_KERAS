{
 "cells": [
  {
   "cell_type": "markdown",
   "id": "0fb6b52b",
   "metadata": {},
   "source": [
    "# 🌊 **Klasifikasi Tsunami Menggunakan Random Forest dan Logistic Regression**\n",
    "\n",
    "## 🎯 **Tujuan Proyek**\n",
    "Proyek ini bertujuan untuk **membangun dan membandingkan performa dua algoritma klasifikasi** dalam memprediksi kemungkinan terjadinya **tsunami** berdasarkan data parameter gempa bumi.  \n",
    "Dataset yang digunakan adalah **`earthquake_data_tsunami.csv`**, yang berisi data numerik seperti magnitudo, kedalaman, lokasi, serta label target `tsunami` (0 = tidak, 1 = ya).\n",
    "\n",
    "Proyek ini disusun untuk memenuhi **Ujian Tengah Semester (UTS)** mata kuliah **Pembelajaran Mesin**, dengan fokus pada penerapan **data preprocessing**, **pipeline modeling**, **feature selection**, serta **evaluasi model klasifikasi numerik** sesuai pedoman yang diberikan dosen pengampu.\n",
    "\n",
    "---\n",
    "\n",
    "## ⚙️ **Tujuan Analisis**\n",
    "1. Melakukan **pembersihan data** dengan memeriksa nilai kosong, duplikat, dan outlier.  \n",
    "2. Melakukan **preprocessing** data numerik serta memisahkan fitur (`X`) dan target (`y`).  \n",
    "3. Membangun **dua model klasifikasi utama**:\n",
    "   - **Tree-Based Model** → Random Forest  \n",
    "   - **Linear-Based Model** → Logistic Regression  \n",
    "4. Melakukan **eksperimen pembelajaran mesin** dengan:\n",
    "   - **Dua metode penskalaan (scaling):** `StandardScaler` dan `MinMaxScaler`  \n",
    "   - **Dua metode seleksi fitur (feature selection):** `SelectKBest` dan `SelectPercentile`  \n",
    "5. Menggunakan **GridSearchCV** dengan **StratifiedKFold Cross Validation** untuk mencari parameter optimal.  \n",
    "6. Membandingkan hasil evaluasi model berdasarkan **akurasi, presisi, recall, dan F1-score** serta menampilkan **visualisasi confusion matrix**.\n",
    "\n",
    "---\n",
    "\n",
    "## 🌳 **Alasan Pemilihan Algoritme**\n",
    "- **Random Forest (Tree-Based)**  \n",
    "  Algoritme ini kuat dalam menangani hubungan non-linear antar fitur, relatif tahan terhadap outlier, dan mampu mengukur tingkat kepentingan fitur secara langsung.\n",
    "\n",
    "- **Logistic Regression (Linear-Based)**  \n",
    "  Model ini sederhana dan efisien untuk data numerik, serta memberikan interpretasi yang jelas terhadap probabilitas kelas. Logistic Regression juga menjadi baseline penting untuk membandingkan performa pendekatan non-linear seperti Random Forest.\n",
    "\n",
    "---\n",
    "\n",
    "## 🧩 **Tahapan Eksperimen**\n",
    "1. **Data Understanding & Cleaning**  \n",
    "   Mengecek struktur data, nilai kosong, duplikat, dan distribusi fitur.  \n",
    "2. **Feature Selection & Encoding**  \n",
    "   Menentukan kolom fitur (X) dan target (y) serta memastikan seluruh data numerik siap diproses.  \n",
    "3. **Train-Test Split**  \n",
    "   Membagi data menjadi data latih dan uji (contoh: 80:20 atau 75:25 atau 70:30) dengan parameter `random_state` sesuai dua digit NPM terbesar anggota kelompok.  \n",
    "4. **Pipeline Construction**  \n",
    "   Membangun pipeline untuk kedua model, berisi tahap scaling → feature selection → classifier.  \n",
    "5. **Model Training & Tuning**  \n",
    "   Melakukan pencarian parameter terbaik menggunakan **GridSearchCV** dan validasi lipat (**StratifiedKFold**).  \n",
    "6. **Evaluation & Visualization**  \n",
    "   Membandingkan hasil evaluasi model menggunakan metrik klasifikasi serta menampilkan **Confusion Matrix** dan **Classification Report**.\n",
    "\n",
    "---\n",
    "\n",
    "## 📊 **Hasil yang Diharapkan**\n",
    "- Didapatkan **model terbaik** dengan skor F1 dan akurasi tertinggi.  \n",
    "- Teridentifikasi **fitur-fitur paling relevan** dalam menentukan potensi tsunami.  \n",
    "- Diperoleh **perbandingan performa** antara model Random Forest dan Logistic Regression sebagai dasar analisis efektivitas algoritme berbasis pohon dan linear.\n",
    "\n",
    "---\n"
   ]
  },
  {
   "cell_type": "code",
   "execution_count": 1,
   "id": "c6545914",
   "metadata": {},
   "outputs": [],
   "source": [
    "# ============================================================\n",
    "# 🧮 IMPORT LIBRARY — Pengolahan Data, Modeling, & Evaluasi\n",
    "# ============================================================\n",
    "\n",
    "# 📦 Manipulasi Data\n",
    "\n",
    "import numpy as np\n",
    "import pandas as pd  \n",
    "\n",
    "# 📊 Visualisasi\n",
    "import matplotlib.pyplot as plt\n",
    "\n",
    "# 🔧 Pembagian data & pencarian hyperparameter\n",
    "from sklearn.model_selection import train_test_split            \n",
    "from sklearn.model_selection import StratifiedKFold, GridSearchCV\n",
    "\n",
    "# ⚙️ Pra-pemrosesan & Seleksi Fitur\n",
    "from sklearn.preprocessing import MinMaxScaler, StandardScaler\n",
    "from sklearn.feature_selection import SelectKBest, SelectPercentile\n",
    "\n",
    "# 🤖 Model Klasifikasi\n",
    "from sklearn.ensemble import RandomForestClassifier \n",
    "from sklearn.linear_model import LogisticRegression\n",
    "\n",
    "# 🧩 Pipeline & Utilitas\n",
    "from sklearn.pipeline import Pipeline\n",
    "from sklearn.base import clone\n",
    "import time\n",
    "\n",
    "# 📈 Evaluasi Model\n",
    "from sklearn.metrics import (\n",
    "    confusion_matrix,\n",
    "    ConfusionMatrixDisplay,\n",
    "    classification_report\n",
    ")"
   ]
  },
  {
   "cell_type": "markdown",
   "id": "75f2e118",
   "metadata": {},
   "source": [
    "# **Loading Data**"
   ]
  },
  {
   "cell_type": "code",
   "execution_count": 3,
   "id": "e17df484",
   "metadata": {},
   "outputs": [
    {
     "data": {
      "text/html": [
       "<div>\n",
       "<style scoped>\n",
       "    .dataframe tbody tr th:only-of-type {\n",
       "        vertical-align: middle;\n",
       "    }\n",
       "\n",
       "    .dataframe tbody tr th {\n",
       "        vertical-align: top;\n",
       "    }\n",
       "\n",
       "    .dataframe thead th {\n",
       "        text-align: right;\n",
       "    }\n",
       "</style>\n",
       "<table border=\"1\" class=\"dataframe\">\n",
       "  <thead>\n",
       "    <tr style=\"text-align: right;\">\n",
       "      <th></th>\n",
       "      <th>magnitude</th>\n",
       "      <th>cdi</th>\n",
       "      <th>mmi</th>\n",
       "      <th>sig</th>\n",
       "      <th>nst</th>\n",
       "      <th>dmin</th>\n",
       "      <th>gap</th>\n",
       "      <th>depth</th>\n",
       "      <th>latitude</th>\n",
       "      <th>longitude</th>\n",
       "      <th>Year</th>\n",
       "      <th>Month</th>\n",
       "      <th>tsunami</th>\n",
       "    </tr>\n",
       "  </thead>\n",
       "  <tbody>\n",
       "    <tr>\n",
       "      <th>0</th>\n",
       "      <td>7.0</td>\n",
       "      <td>8</td>\n",
       "      <td>7</td>\n",
       "      <td>768</td>\n",
       "      <td>117</td>\n",
       "      <td>0.509</td>\n",
       "      <td>17.0</td>\n",
       "      <td>14.000</td>\n",
       "      <td>-9.7963</td>\n",
       "      <td>159.596</td>\n",
       "      <td>2022</td>\n",
       "      <td>11</td>\n",
       "      <td>1</td>\n",
       "    </tr>\n",
       "    <tr>\n",
       "      <th>1</th>\n",
       "      <td>6.9</td>\n",
       "      <td>4</td>\n",
       "      <td>4</td>\n",
       "      <td>735</td>\n",
       "      <td>99</td>\n",
       "      <td>2.229</td>\n",
       "      <td>34.0</td>\n",
       "      <td>25.000</td>\n",
       "      <td>-4.9559</td>\n",
       "      <td>100.738</td>\n",
       "      <td>2022</td>\n",
       "      <td>11</td>\n",
       "      <td>0</td>\n",
       "    </tr>\n",
       "    <tr>\n",
       "      <th>2</th>\n",
       "      <td>7.0</td>\n",
       "      <td>3</td>\n",
       "      <td>3</td>\n",
       "      <td>755</td>\n",
       "      <td>147</td>\n",
       "      <td>3.125</td>\n",
       "      <td>18.0</td>\n",
       "      <td>579.000</td>\n",
       "      <td>-20.0508</td>\n",
       "      <td>-178.346</td>\n",
       "      <td>2022</td>\n",
       "      <td>11</td>\n",
       "      <td>1</td>\n",
       "    </tr>\n",
       "    <tr>\n",
       "      <th>3</th>\n",
       "      <td>7.3</td>\n",
       "      <td>5</td>\n",
       "      <td>5</td>\n",
       "      <td>833</td>\n",
       "      <td>149</td>\n",
       "      <td>1.865</td>\n",
       "      <td>21.0</td>\n",
       "      <td>37.000</td>\n",
       "      <td>-19.2918</td>\n",
       "      <td>-172.129</td>\n",
       "      <td>2022</td>\n",
       "      <td>11</td>\n",
       "      <td>1</td>\n",
       "    </tr>\n",
       "    <tr>\n",
       "      <th>4</th>\n",
       "      <td>6.6</td>\n",
       "      <td>0</td>\n",
       "      <td>2</td>\n",
       "      <td>670</td>\n",
       "      <td>131</td>\n",
       "      <td>4.998</td>\n",
       "      <td>27.0</td>\n",
       "      <td>624.464</td>\n",
       "      <td>-25.5948</td>\n",
       "      <td>178.278</td>\n",
       "      <td>2022</td>\n",
       "      <td>11</td>\n",
       "      <td>1</td>\n",
       "    </tr>\n",
       "  </tbody>\n",
       "</table>\n",
       "</div>"
      ],
      "text/plain": [
       "   magnitude  cdi  mmi  sig  nst   dmin   gap    depth  latitude  longitude  \\\n",
       "0        7.0    8    7  768  117  0.509  17.0   14.000   -9.7963    159.596   \n",
       "1        6.9    4    4  735   99  2.229  34.0   25.000   -4.9559    100.738   \n",
       "2        7.0    3    3  755  147  3.125  18.0  579.000  -20.0508   -178.346   \n",
       "3        7.3    5    5  833  149  1.865  21.0   37.000  -19.2918   -172.129   \n",
       "4        6.6    0    2  670  131  4.998  27.0  624.464  -25.5948    178.278   \n",
       "\n",
       "   Year  Month  tsunami  \n",
       "0  2022     11        1  \n",
       "1  2022     11        0  \n",
       "2  2022     11        1  \n",
       "3  2022     11        1  \n",
       "4  2022     11        1  "
      ]
     },
     "execution_count": 3,
     "metadata": {},
     "output_type": "execute_result"
    }
   ],
   "source": [
    "df_tsunami = pd.read_csv('dataset/earthquake_data_tsunami.csv',header=0)\n",
    "\n",
    "df_tsunami.head()"
   ]
  },
  {
   "cell_type": "code",
   "execution_count": 4,
   "id": "d7e71a64",
   "metadata": {},
   "outputs": [
    {
     "name": "stdout",
     "output_type": "stream",
     "text": [
      "Jumlah baris, kolom: (782, 13)\n",
      "\n",
      "Tipe data:\n",
      "magnitude    float64\n",
      "cdi            int64\n",
      "mmi            int64\n",
      "sig            int64\n",
      "nst            int64\n",
      "dmin         float64\n",
      "gap          float64\n",
      "depth        float64\n",
      "latitude     float64\n",
      "longitude    float64\n",
      "Year           int64\n",
      "Month          int64\n",
      "tsunami        int64\n",
      "dtype: object\n"
     ]
    }
   ],
   "source": [
    "# Info cepat tentang kolom & tipe datanya\n",
    "print(\"Jumlah baris, kolom:\", df_tsunami.shape)    \n",
    "print(\"\\nTipe data:\")\n",
    "print(df_tsunami.dtypes)"
   ]
  },
  {
   "cell_type": "markdown",
   "id": "ae1f55c8",
   "metadata": {},
   "source": [
    "### **Pembersihan Data (Bagian 1): Buang Kolom Tak Perlu**\n",
    "- Kolom `Year` dan `month` tidak dibutuhkan untuk pemodelan (tidak dibutuhkan untuk prediksi), jadi kita hapus.\n"
   ]
  },
  {
   "cell_type": "code",
   "execution_count": 8,
   "id": "018428fe",
   "metadata": {},
   "outputs": [
    {
     "data": {
      "text/html": [
       "<div>\n",
       "<style scoped>\n",
       "    .dataframe tbody tr th:only-of-type {\n",
       "        vertical-align: middle;\n",
       "    }\n",
       "\n",
       "    .dataframe tbody tr th {\n",
       "        vertical-align: top;\n",
       "    }\n",
       "\n",
       "    .dataframe thead th {\n",
       "        text-align: right;\n",
       "    }\n",
       "</style>\n",
       "<table border=\"1\" class=\"dataframe\">\n",
       "  <thead>\n",
       "    <tr style=\"text-align: right;\">\n",
       "      <th></th>\n",
       "      <th>magnitude</th>\n",
       "      <th>cdi</th>\n",
       "      <th>mmi</th>\n",
       "      <th>sig</th>\n",
       "      <th>nst</th>\n",
       "      <th>dmin</th>\n",
       "      <th>gap</th>\n",
       "      <th>depth</th>\n",
       "      <th>latitude</th>\n",
       "      <th>longitude</th>\n",
       "      <th>tsunami</th>\n",
       "    </tr>\n",
       "  </thead>\n",
       "  <tbody>\n",
       "    <tr>\n",
       "      <th>0</th>\n",
       "      <td>7.0</td>\n",
       "      <td>8</td>\n",
       "      <td>7</td>\n",
       "      <td>768</td>\n",
       "      <td>117</td>\n",
       "      <td>0.509</td>\n",
       "      <td>17.0</td>\n",
       "      <td>14.000</td>\n",
       "      <td>-9.7963</td>\n",
       "      <td>159.596</td>\n",
       "      <td>1</td>\n",
       "    </tr>\n",
       "    <tr>\n",
       "      <th>1</th>\n",
       "      <td>6.9</td>\n",
       "      <td>4</td>\n",
       "      <td>4</td>\n",
       "      <td>735</td>\n",
       "      <td>99</td>\n",
       "      <td>2.229</td>\n",
       "      <td>34.0</td>\n",
       "      <td>25.000</td>\n",
       "      <td>-4.9559</td>\n",
       "      <td>100.738</td>\n",
       "      <td>0</td>\n",
       "    </tr>\n",
       "    <tr>\n",
       "      <th>2</th>\n",
       "      <td>7.0</td>\n",
       "      <td>3</td>\n",
       "      <td>3</td>\n",
       "      <td>755</td>\n",
       "      <td>147</td>\n",
       "      <td>3.125</td>\n",
       "      <td>18.0</td>\n",
       "      <td>579.000</td>\n",
       "      <td>-20.0508</td>\n",
       "      <td>-178.346</td>\n",
       "      <td>1</td>\n",
       "    </tr>\n",
       "    <tr>\n",
       "      <th>3</th>\n",
       "      <td>7.3</td>\n",
       "      <td>5</td>\n",
       "      <td>5</td>\n",
       "      <td>833</td>\n",
       "      <td>149</td>\n",
       "      <td>1.865</td>\n",
       "      <td>21.0</td>\n",
       "      <td>37.000</td>\n",
       "      <td>-19.2918</td>\n",
       "      <td>-172.129</td>\n",
       "      <td>1</td>\n",
       "    </tr>\n",
       "    <tr>\n",
       "      <th>4</th>\n",
       "      <td>6.6</td>\n",
       "      <td>0</td>\n",
       "      <td>2</td>\n",
       "      <td>670</td>\n",
       "      <td>131</td>\n",
       "      <td>4.998</td>\n",
       "      <td>27.0</td>\n",
       "      <td>624.464</td>\n",
       "      <td>-25.5948</td>\n",
       "      <td>178.278</td>\n",
       "      <td>1</td>\n",
       "    </tr>\n",
       "  </tbody>\n",
       "</table>\n",
       "</div>"
      ],
      "text/plain": [
       "   magnitude  cdi  mmi  sig  nst   dmin   gap    depth  latitude  longitude  \\\n",
       "0        7.0    8    7  768  117  0.509  17.0   14.000   -9.7963    159.596   \n",
       "1        6.9    4    4  735   99  2.229  34.0   25.000   -4.9559    100.738   \n",
       "2        7.0    3    3  755  147  3.125  18.0  579.000  -20.0508   -178.346   \n",
       "3        7.3    5    5  833  149  1.865  21.0   37.000  -19.2918   -172.129   \n",
       "4        6.6    0    2  670  131  4.998  27.0  624.464  -25.5948    178.278   \n",
       "\n",
       "   tsunami  \n",
       "0        1  \n",
       "1        0  \n",
       "2        1  \n",
       "3        1  \n",
       "4        1  "
      ]
     },
     "execution_count": 8,
     "metadata": {},
     "output_type": "execute_result"
    }
   ],
   "source": [
    "# 1) Hapus kolom 'year' dan `month`\n",
    "df_tsunami2 = df_tsunami.drop(columns=['Year', 'Month'], errors='ignore')\n",
    "df_tsunami2.head()"
   ]
  },
  {
   "cell_type": "markdown",
   "id": "9726b969",
   "metadata": {},
   "source": [
    "### **Pembersihan Data (Bagian 2): Cek & Tangani Missing Value**\n",
    "- Kita cek data **null/kosong/NaN** per kolom.  \n",
    "- Kolom **`texture_mean`** memiliki beberapa nilai kosong dan diisi dengan **median** (aman saat kita belum tahu distribusinya).\n"
   ]
  },
  {
   "cell_type": "code",
   "execution_count": 9,
   "id": "736750d2",
   "metadata": {},
   "outputs": [
    {
     "name": "stdout",
     "output_type": "stream",
     "text": [
      "Jumlah nilai kosong per kolom:\n",
      " magnitude    0\n",
      "cdi          0\n",
      "mmi          0\n",
      "sig          0\n",
      "nst          0\n",
      "dmin         0\n",
      "gap          0\n",
      "depth        0\n",
      "latitude     0\n",
      "longitude    0\n",
      "tsunami      0\n",
      "dtype: int64\n"
     ]
    }
   ],
   "source": [
    "# 1) Cek jumlah nilai kosong per kolom\n",
    "print(\"Jumlah nilai kosong per kolom:\\n\", df_tsunami2.isnull().sum()) "
   ]
  },
  {
   "cell_type": "code",
   "execution_count": 20,
   "id": "b9f57312",
   "metadata": {},
   "outputs": [
    {
     "name": "stdout",
     "output_type": "stream",
     "text": [
      "\n",
      "Median cdi: 5.0\n"
     ]
    }
   ],
   "source": [
    "# 2) Contoh pengisian: gunakan median untuk kolom 'texture_mean' (jika ada)\n",
    "median_chole = df_tsunami2['cdi'].median()\n",
    "df_tsunami2['cdi'] = df_tsunami2['cdi'].fillna(median_chole)\n",
    "print(\"\\nMedian cdi:\", median_chole)\n",
    "#karena dataset yang kami miliki tidak memiliki data kosong/NaN/NULL maka kami mengambil salah satu contoh penangan jika ada data kosong di cdi"
   ]
  },
  {
   "cell_type": "code",
   "execution_count": null,
   "id": "b46efe05",
   "metadata": {},
   "outputs": [
    {
     "name": "stdout",
     "output_type": "stream",
     "text": [
      "\n",
      "Setelah imputasi, nilai kosong per kolom:\n",
      " magnitude    0\n",
      "cdi          0\n",
      "mmi          0\n",
      "sig          0\n",
      "nst          0\n",
      "dmin         0\n",
      "gap          0\n",
      "depth        0\n",
      "latitude     0\n",
      "longitude    0\n",
      "tsunami      0\n",
      "dtype: int64\n"
     ]
    }
   ],
   "source": [
    "# 3) Validasi ulang\n",
    "print(\"\\nSetelah inputasi, nilai kosong per kolom:\\n\", df_tsunami2.isnull().sum())"
   ]
  },
  {
   "cell_type": "markdown",
   "id": "11d5a8d1",
   "metadata": {},
   "source": [
    "### **Pembersihan Data (Bagian 3): Cek & Hapus Duplikat**\n",
    "- Data yang **kembar** dapat merusak evaluasi model.\n",
    "- Kita cek duplikat lalu **drop** agar setiap baris unik.\n"
   ]
  },
  {
   "cell_type": "code",
   "execution_count": null,
   "id": "d0913ac8",
   "metadata": {},
   "outputs": [
    {
     "name": "stdout",
     "output_type": "stream",
     "text": [
      "Jumlah baris duplikat (terhitung ganda): 0\n",
      "Bentuk data sebelum/ setelah hapus duplikat: (782, 11) -> (782, 11)\n"
     ]
    }
   ],
   "source": [
    "before = df_tsunami2.shape\n",
    "dupes = df_tsunami2[df_tsunami2.duplicated(keep=False)]\n",
    "print(f\"Jumlah baris duplikat (terhitung ganda): {dupes.shape[0]}\")\n",
    "df_tsunami3 = df_tsunami2.drop_duplicates(keep='first')\n",
    "print(\"Bentuk data sebelum/ setelah hapus duplikat:\", before, \"->\", df_tsunami3.shape)"
   ]
  },
  {
   "cell_type": "markdown",
   "id": "87f36681",
   "metadata": {},
   "source": [
    "### **Pembersihan Data (Bagian 4): Cek Outlier**\n",
    "- Data yang **Outlier** dapat merusak evaluasi model.\n",
    "- Kenapa tidak dihapus? karena itu adalah fenomena nyata dan **Penting** untuk klasifikasi.\n"
   ]
  },
  {
   "cell_type": "code",
   "execution_count": 17,
   "id": "3867eae7",
   "metadata": {},
   "outputs": [
    {
     "name": "stdout",
     "output_type": "stream",
     "text": [
      "Pengecekan outlier untuk setiap fitur numerik:\n",
      "\n",
      "magnitude: 37 outlier\n",
      "cdi: 0 outlier\n",
      "mmi: 1 outlier\n",
      "sig: 73 outlier\n",
      "nst: 0 outlier\n",
      "dmin: 61 outlier\n",
      "gap: 48 outlier\n",
      "depth: 139 outlier\n",
      "latitude: 0 outlier\n",
      "longitude: 0 outlier\n",
      "tsunami: 0 outlier\n"
     ]
    }
   ],
   "source": [
    "numeric_cols = df_tsunami3.select_dtypes(include=np.number).columns\n",
    "\n",
    "print(\"Pengecekan outlier untuk setiap fitur numerik:\\n\")\n",
    "for col in numeric_cols:\n",
    "    Q1 = df_tsunami3[col].quantile(0.25)\n",
    "    Q3 = df_tsunami3[col].quantile(0.75)\n",
    "    IQR = Q3 - Q1\n",
    "    outliers = ((df_tsunami3[col] < (Q1 - 1.5 * IQR)) | (df_tsunami3[col] > (Q3 + 1.5 * IQR))).sum()\n",
    "    print(f\"{col}: {outliers} outlier\")"
   ]
  },
  {
   "cell_type": "code",
   "execution_count": 22,
   "id": "58e5cbaa",
   "metadata": {},
   "outputs": [],
   "source": [
    "# Tangani outlier depth dengan batas atas\n",
    "df_tsunami3['depth'] = np.where(df_tsunami3['depth'] > 700, 700, df_tsunami3['depth'])"
   ]
  },
  {
   "cell_type": "code",
   "execution_count": null,
   "id": "61c32c73",
   "metadata": {},
   "outputs": [],
   "source": [
    "# Menampilkan Data Outlier\n",
    "plt.figure(figsize=(8,4))\n",
    "plt.boxplot([df_tsunami['magnitude'], df_tsunami['depth'], df_tsunami['sig'], df_tsunami['mmi'], df_tsunami['cdi']],\n",
    "            labels=['magnitude','depth','sig','mmi','cdi'])\n",
    "plt.title(\"Boxplot Deteksi Outlier pada Fitur Numerik\")\n",
    "plt.ylabel(\"Nilai\")\n",
    "plt.show()"
   ]
  },
  {
   "cell_type": "markdown",
   "id": "97b59d9b",
   "metadata": {},
   "source": [
    "### **Pembagian Data: Train/Test Split**\n",
    "\n",
    "- **X**: semua fitur kecuali label target.  \n",
    "- **y**: kolom target, yaitu `tsunami` (1 = Ya)\n",
    " atau (0 = Tidak )\n",
    "- Kita pakai **30%** data untuk **test** dan sisanya untuk **train**.\n"
   ]
  },
  {
   "cell_type": "code",
   "execution_count": 12,
   "id": "91bf84f6",
   "metadata": {},
   "outputs": [],
   "source": [
    "# Menentukan X sebagai fitur (semua kolom kecuali diagnosis)\n",
    "X = df_tsunami3.drop(columns=['tsunami'])\n",
    "\n",
    "# Menentukan y sebagai target (kolom diagnosis)\n",
    "y = df_tsunami3['tsunami']"
   ]
  },
  {
   "cell_type": "code",
   "execution_count": 13,
   "id": "8a8f4d7c",
   "metadata": {},
   "outputs": [
    {
     "name": "stdout",
     "output_type": "stream",
     "text": [
      "Ukuran X_train, X_test: (625, 10) (157, 10)\n"
     ]
    }
   ],
   "source": [
    "X_train, X_test, y_train, y_test = train_test_split(\n",
    "    X, y, test_size=0.20, random_state = 98, stratify=y\n",
    ")                                                          \n",
    "\n",
    "print(\"Ukuran X_train, X_test:\", X_train.shape, X_test.shape)\n"
   ]
  },
  {
   "cell_type": "markdown",
   "id": "d4fa28de",
   "metadata": {},
   "source": []
  }
 ],
 "metadata": {
  "kernelspec": {
   "display_name": ".venv (3.12.6)",
   "language": "python",
   "name": "python3"
  },
  "language_info": {
   "codemirror_mode": {
    "name": "ipython",
    "version": 3
   },
   "file_extension": ".py",
   "mimetype": "text/x-python",
   "name": "python",
   "nbconvert_exporter": "python",
   "pygments_lexer": "ipython3",
   "version": "3.12.6"
  }
 },
 "nbformat": 4,
 "nbformat_minor": 5
}
