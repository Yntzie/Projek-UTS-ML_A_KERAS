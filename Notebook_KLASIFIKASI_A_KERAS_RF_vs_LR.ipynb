{
 "cells": [
  {
   "cell_type": "markdown",
   "id": "0fb6b52b",
   "metadata": {},
   "source": [
    "# 🌊 **Klasifikasi Tsunami Menggunakan Random Forest dan Logistic Regression**\n",
    "\n",
    "## 🎯 **Tujuan Proyek**\n",
    "Proyek ini bertujuan untuk **membangun dan membandingkan performa dua algoritma klasifikasi** dalam memprediksi kemungkinan terjadinya **tsunami** berdasarkan data parameter gempa bumi.  \n",
    "Dataset yang digunakan adalah **`earthquake_data_tsunami.csv`**, yang berisi data numerik seperti magnitudo, kedalaman, lokasi, serta label target `tsunami` (0 = tidak, 1 = ya).\n",
    "\n",
    "Proyek ini disusun untuk memenuhi **Ujian Tengah Semester (UTS)** mata kuliah **Pembelajaran Mesin**, dengan fokus pada penerapan **data preprocessing**, **pipeline modeling**, **feature selection**, serta **evaluasi model klasifikasi numerik** sesuai pedoman yang diberikan dosen pengampu.\n",
    "\n",
    "---\n",
    "\n",
    "## ⚙️ **Tujuan Analisis**\n",
    "1. Melakukan **pembersihan data** dengan memeriksa nilai kosong, duplikat, dan outlier.  \n",
    "2. Melakukan **preprocessing** data numerik serta memisahkan fitur (`X`) dan target (`y`).  \n",
    "3. Membangun **dua model klasifikasi utama**:\n",
    "   - **Tree-Based Model** → Random Forest  \n",
    "   - **Linear-Based Model** → Logistic Regression  \n",
    "4. Melakukan **eksperimen pembelajaran mesin** dengan:\n",
    "   - **Dua metode penskalaan (scaling):** `StandardScaler` dan `MinMaxScaler`  \n",
    "   - **Dua metode seleksi fitur (feature selection):** `SelectKBest` dan `SelectPercentile`  \n",
    "5. Menggunakan **GridSearchCV** dengan **StratifiedKFold Cross Validation** untuk mencari parameter optimal.  \n",
    "6. Membandingkan hasil evaluasi model berdasarkan **akurasi, presisi, recall, dan F1-score** serta menampilkan **visualisasi confusion matrix**.\n",
    "\n",
    "---\n",
    "\n",
    "## 🌳 **Alasan Pemilihan Algoritme**\n",
    "- **Random Forest (Tree-Based)**  \n",
    "  Algoritme ini kuat dalam menangani hubungan non-linear antar fitur, relatif tahan terhadap outlier, dan mampu mengukur tingkat kepentingan fitur secara langsung.\n",
    "\n",
    "- **Logistic Regression (Linear-Based)**  \n",
    "  Model ini sederhana dan efisien untuk data numerik, serta memberikan interpretasi yang jelas terhadap probabilitas kelas. Logistic Regression juga menjadi baseline penting untuk membandingkan performa pendekatan non-linear seperti Random Forest.\n",
    "\n",
    "---\n",
    "\n",
    "## 🧩 **Tahapan Eksperimen**\n",
    "1. **Data Understanding & Cleaning**  \n",
    "   Mengecek struktur data, nilai kosong, duplikat, dan distribusi fitur.  \n",
    "2. **Feature Selection & Encoding**  \n",
    "   Menentukan kolom fitur (X) dan target (y) serta memastikan seluruh data numerik siap diproses.  \n",
    "3. **Train-Test Split**  \n",
    "   Membagi data menjadi data latih dan uji (contoh: 80:20 atau 75:25 atau 70:30) dengan parameter `random_state` sesuai dua digit NPM terbesar anggota kelompok.  \n",
    "4. **Pipeline Construction**  \n",
    "   Membangun pipeline untuk kedua model, berisi tahap scaling → feature selection → classifier.  \n",
    "5. **Model Training & Tuning**  \n",
    "   Melakukan pencarian parameter terbaik menggunakan **GridSearchCV** dan validasi lipat (**StratifiedKFold**).  \n",
    "6. **Evaluation & Visualization**  \n",
    "   Membandingkan hasil evaluasi model menggunakan metrik klasifikasi serta menampilkan **Confusion Matrix** dan **Classification Report**.\n",
    "\n",
    "---\n",
    "\n",
    "## 📊 **Hasil yang Diharapkan**\n",
    "- Didapatkan **model terbaik** dengan skor F1 dan akurasi tertinggi.  \n",
    "- Teridentifikasi **fitur-fitur paling relevan** dalam menentukan potensi tsunami.  \n",
    "- Diperoleh **perbandingan performa** antara model Random Forest dan Logistic Regression sebagai dasar analisis efektivitas algoritme berbasis pohon dan linear.\n",
    "\n",
    "---\n"
   ]
  },
  {
   "cell_type": "code",
   "execution_count": 1,
   "id": "c6545914",
   "metadata": {},
   "outputs": [],
   "source": [
    "# ============================================================\n",
    "# 🧮 IMPORT LIBRARY — Pengolahan Data, Modeling, & Evaluasi\n",
    "# ============================================================\n",
    "\n",
    "# 📦 Manipulasi Data\n",
    "\n",
    "import numpy as np\n",
    "import pandas as pd  \n",
    "\n",
    "# 📊 Visualisasi\n",
    "import matplotlib.pyplot as plt\n",
    "\n",
    "# 🔧 Pembagian data & pencarian hyperparameter\n",
    "from sklearn.model_selection import train_test_split            \n",
    "from sklearn.model_selection import StratifiedKFold, GridSearchCV\n",
    "\n",
    "# ⚙️ Pra-pemrosesan & Seleksi Fitur\n",
    "from sklearn.preprocessing import MinMaxScaler, StandardScaler\n",
    "from sklearn.feature_selection import SelectKBest, SelectPercentile, f_classif\n",
    "\n",
    "# 🤖 Model Klasifikasi\n",
    "from sklearn.ensemble import RandomForestClassifier \n",
    "from sklearn.linear_model import LogisticRegression\n",
    "\n",
    "# 🧩 Pipeline & Utilitas\n",
    "from sklearn.pipeline import Pipeline\n",
    "from sklearn.base import clone\n",
    "import time\n",
    "\n",
    "# 📈 Evaluasi Model\n",
    "from sklearn.metrics import (\n",
    "    confusion_matrix,\n",
    "    ConfusionMatrixDisplay,\n",
    "    classification_report,\n",
    "    accuracy_score\n",
    ")"
   ]
  },
  {
   "cell_type": "markdown",
   "id": "75f2e118",
   "metadata": {},
   "source": [
    "# **Loading Data**"
   ]
  },
  {
   "cell_type": "code",
   "execution_count": 2,
   "id": "e17df484",
   "metadata": {},
   "outputs": [
    {
     "data": {
      "text/html": [
       "<div>\n",
       "<style scoped>\n",
       "    .dataframe tbody tr th:only-of-type {\n",
       "        vertical-align: middle;\n",
       "    }\n",
       "\n",
       "    .dataframe tbody tr th {\n",
       "        vertical-align: top;\n",
       "    }\n",
       "\n",
       "    .dataframe thead th {\n",
       "        text-align: right;\n",
       "    }\n",
       "</style>\n",
       "<table border=\"1\" class=\"dataframe\">\n",
       "  <thead>\n",
       "    <tr style=\"text-align: right;\">\n",
       "      <th></th>\n",
       "      <th>magnitude</th>\n",
       "      <th>cdi</th>\n",
       "      <th>mmi</th>\n",
       "      <th>sig</th>\n",
       "      <th>nst</th>\n",
       "      <th>dmin</th>\n",
       "      <th>gap</th>\n",
       "      <th>depth</th>\n",
       "      <th>latitude</th>\n",
       "      <th>longitude</th>\n",
       "      <th>Year</th>\n",
       "      <th>Month</th>\n",
       "      <th>tsunami</th>\n",
       "    </tr>\n",
       "  </thead>\n",
       "  <tbody>\n",
       "    <tr>\n",
       "      <th>0</th>\n",
       "      <td>7.0</td>\n",
       "      <td>8</td>\n",
       "      <td>7</td>\n",
       "      <td>768</td>\n",
       "      <td>117</td>\n",
       "      <td>0.509</td>\n",
       "      <td>17.0</td>\n",
       "      <td>14.000</td>\n",
       "      <td>-9.7963</td>\n",
       "      <td>159.596</td>\n",
       "      <td>2022</td>\n",
       "      <td>11</td>\n",
       "      <td>berpotensi</td>\n",
       "    </tr>\n",
       "    <tr>\n",
       "      <th>1</th>\n",
       "      <td>6.9</td>\n",
       "      <td>4</td>\n",
       "      <td>4</td>\n",
       "      <td>735</td>\n",
       "      <td>99</td>\n",
       "      <td>2.229</td>\n",
       "      <td>34.0</td>\n",
       "      <td>25.000</td>\n",
       "      <td>-4.9559</td>\n",
       "      <td>100.738</td>\n",
       "      <td>2022</td>\n",
       "      <td>11</td>\n",
       "      <td>tidak</td>\n",
       "    </tr>\n",
       "    <tr>\n",
       "      <th>2</th>\n",
       "      <td>7.0</td>\n",
       "      <td>3</td>\n",
       "      <td>3</td>\n",
       "      <td>755</td>\n",
       "      <td>147</td>\n",
       "      <td>3.125</td>\n",
       "      <td>18.0</td>\n",
       "      <td>579.000</td>\n",
       "      <td>-20.0508</td>\n",
       "      <td>-178.346</td>\n",
       "      <td>2022</td>\n",
       "      <td>11</td>\n",
       "      <td>berpotensi</td>\n",
       "    </tr>\n",
       "    <tr>\n",
       "      <th>3</th>\n",
       "      <td>7.3</td>\n",
       "      <td>5</td>\n",
       "      <td>5</td>\n",
       "      <td>833</td>\n",
       "      <td>149</td>\n",
       "      <td>1.865</td>\n",
       "      <td>21.0</td>\n",
       "      <td>37.000</td>\n",
       "      <td>-19.2918</td>\n",
       "      <td>-172.129</td>\n",
       "      <td>2022</td>\n",
       "      <td>11</td>\n",
       "      <td>berpotensi</td>\n",
       "    </tr>\n",
       "    <tr>\n",
       "      <th>4</th>\n",
       "      <td>6.6</td>\n",
       "      <td>0</td>\n",
       "      <td>2</td>\n",
       "      <td>670</td>\n",
       "      <td>131</td>\n",
       "      <td>4.998</td>\n",
       "      <td>27.0</td>\n",
       "      <td>624.464</td>\n",
       "      <td>-25.5948</td>\n",
       "      <td>178.278</td>\n",
       "      <td>2022</td>\n",
       "      <td>11</td>\n",
       "      <td>berpotensi</td>\n",
       "    </tr>\n",
       "  </tbody>\n",
       "</table>\n",
       "</div>"
      ],
      "text/plain": [
       "   magnitude  cdi  mmi  sig  nst   dmin   gap    depth  latitude  longitude  \\\n",
       "0        7.0    8    7  768  117  0.509  17.0   14.000   -9.7963    159.596   \n",
       "1        6.9    4    4  735   99  2.229  34.0   25.000   -4.9559    100.738   \n",
       "2        7.0    3    3  755  147  3.125  18.0  579.000  -20.0508   -178.346   \n",
       "3        7.3    5    5  833  149  1.865  21.0   37.000  -19.2918   -172.129   \n",
       "4        6.6    0    2  670  131  4.998  27.0  624.464  -25.5948    178.278   \n",
       "\n",
       "   Year  Month     tsunami  \n",
       "0  2022     11  berpotensi  \n",
       "1  2022     11       tidak  \n",
       "2  2022     11  berpotensi  \n",
       "3  2022     11  berpotensi  \n",
       "4  2022     11  berpotensi  "
      ]
     },
     "execution_count": 2,
     "metadata": {},
     "output_type": "execute_result"
    }
   ],
   "source": [
    "df_tsunami = pd.read_csv('dataset/earthquake_data_tsunami.csv',header=0)\n",
    "\n",
    "df_tsunami.head()"
   ]
  },
  {
   "cell_type": "code",
   "execution_count": 3,
   "id": "d7e71a64",
   "metadata": {},
   "outputs": [
    {
     "name": "stdout",
     "output_type": "stream",
     "text": [
      "Jumlah baris, kolom: (782, 13)\n",
      "\n",
      "Tipe data:\n",
      "magnitude    float64\n",
      "cdi            int64\n",
      "mmi            int64\n",
      "sig            int64\n",
      "nst            int64\n",
      "dmin         float64\n",
      "gap          float64\n",
      "depth        float64\n",
      "latitude     float64\n",
      "longitude    float64\n",
      "Year           int64\n",
      "Month          int64\n",
      "tsunami       object\n",
      "dtype: object\n"
     ]
    }
   ],
   "source": [
    "# Info cepat tentang kolom & tipe datanya\n",
    "print(\"Jumlah baris, kolom:\", df_tsunami.shape)    \n",
    "print(\"\\nTipe data:\")\n",
    "print(df_tsunami.dtypes)"
   ]
  },
  {
   "cell_type": "markdown",
   "id": "ae1f55c8",
   "metadata": {},
   "source": [
    "### **Pembersihan Data (Bagian 1): Buang Kolom Tak Perlu**\n",
    "- Kolom `Year` dan `month` tidak dibutuhkan untuk pemodelan (tidak dibutuhkan untuk prediksi), jadi kita hapus.\n"
   ]
  },
  {
   "cell_type": "code",
   "execution_count": 4,
   "id": "018428fe",
   "metadata": {},
   "outputs": [
    {
     "data": {
      "text/html": [
       "<div>\n",
       "<style scoped>\n",
       "    .dataframe tbody tr th:only-of-type {\n",
       "        vertical-align: middle;\n",
       "    }\n",
       "\n",
       "    .dataframe tbody tr th {\n",
       "        vertical-align: top;\n",
       "    }\n",
       "\n",
       "    .dataframe thead th {\n",
       "        text-align: right;\n",
       "    }\n",
       "</style>\n",
       "<table border=\"1\" class=\"dataframe\">\n",
       "  <thead>\n",
       "    <tr style=\"text-align: right;\">\n",
       "      <th></th>\n",
       "      <th>magnitude</th>\n",
       "      <th>cdi</th>\n",
       "      <th>mmi</th>\n",
       "      <th>sig</th>\n",
       "      <th>nst</th>\n",
       "      <th>dmin</th>\n",
       "      <th>gap</th>\n",
       "      <th>depth</th>\n",
       "      <th>latitude</th>\n",
       "      <th>longitude</th>\n",
       "      <th>tsunami</th>\n",
       "    </tr>\n",
       "  </thead>\n",
       "  <tbody>\n",
       "    <tr>\n",
       "      <th>0</th>\n",
       "      <td>7.0</td>\n",
       "      <td>8</td>\n",
       "      <td>7</td>\n",
       "      <td>768</td>\n",
       "      <td>117</td>\n",
       "      <td>0.509</td>\n",
       "      <td>17.0</td>\n",
       "      <td>14.000</td>\n",
       "      <td>-9.7963</td>\n",
       "      <td>159.596</td>\n",
       "      <td>berpotensi</td>\n",
       "    </tr>\n",
       "    <tr>\n",
       "      <th>1</th>\n",
       "      <td>6.9</td>\n",
       "      <td>4</td>\n",
       "      <td>4</td>\n",
       "      <td>735</td>\n",
       "      <td>99</td>\n",
       "      <td>2.229</td>\n",
       "      <td>34.0</td>\n",
       "      <td>25.000</td>\n",
       "      <td>-4.9559</td>\n",
       "      <td>100.738</td>\n",
       "      <td>tidak</td>\n",
       "    </tr>\n",
       "    <tr>\n",
       "      <th>2</th>\n",
       "      <td>7.0</td>\n",
       "      <td>3</td>\n",
       "      <td>3</td>\n",
       "      <td>755</td>\n",
       "      <td>147</td>\n",
       "      <td>3.125</td>\n",
       "      <td>18.0</td>\n",
       "      <td>579.000</td>\n",
       "      <td>-20.0508</td>\n",
       "      <td>-178.346</td>\n",
       "      <td>berpotensi</td>\n",
       "    </tr>\n",
       "    <tr>\n",
       "      <th>3</th>\n",
       "      <td>7.3</td>\n",
       "      <td>5</td>\n",
       "      <td>5</td>\n",
       "      <td>833</td>\n",
       "      <td>149</td>\n",
       "      <td>1.865</td>\n",
       "      <td>21.0</td>\n",
       "      <td>37.000</td>\n",
       "      <td>-19.2918</td>\n",
       "      <td>-172.129</td>\n",
       "      <td>berpotensi</td>\n",
       "    </tr>\n",
       "    <tr>\n",
       "      <th>4</th>\n",
       "      <td>6.6</td>\n",
       "      <td>0</td>\n",
       "      <td>2</td>\n",
       "      <td>670</td>\n",
       "      <td>131</td>\n",
       "      <td>4.998</td>\n",
       "      <td>27.0</td>\n",
       "      <td>624.464</td>\n",
       "      <td>-25.5948</td>\n",
       "      <td>178.278</td>\n",
       "      <td>berpotensi</td>\n",
       "    </tr>\n",
       "  </tbody>\n",
       "</table>\n",
       "</div>"
      ],
      "text/plain": [
       "   magnitude  cdi  mmi  sig  nst   dmin   gap    depth  latitude  longitude  \\\n",
       "0        7.0    8    7  768  117  0.509  17.0   14.000   -9.7963    159.596   \n",
       "1        6.9    4    4  735   99  2.229  34.0   25.000   -4.9559    100.738   \n",
       "2        7.0    3    3  755  147  3.125  18.0  579.000  -20.0508   -178.346   \n",
       "3        7.3    5    5  833  149  1.865  21.0   37.000  -19.2918   -172.129   \n",
       "4        6.6    0    2  670  131  4.998  27.0  624.464  -25.5948    178.278   \n",
       "\n",
       "      tsunami  \n",
       "0  berpotensi  \n",
       "1       tidak  \n",
       "2  berpotensi  \n",
       "3  berpotensi  \n",
       "4  berpotensi  "
      ]
     },
     "execution_count": 4,
     "metadata": {},
     "output_type": "execute_result"
    }
   ],
   "source": [
    "# 1) Hapus kolom 'year' dan `month`\n",
    "df_tsunami2 = df_tsunami.drop(columns=['Year', 'Month'], errors='ignore')\n",
    "df_tsunami2.head()"
   ]
  },
  {
   "cell_type": "markdown",
   "id": "9726b969",
   "metadata": {},
   "source": [
    "### **Pembersihan Data (Bagian 2): Cek & Tangani Missing Value**\n",
    "- Kita cek data **null/kosong/NaN** per kolom.  \n",
    "- Kolom **`texture_mean`** memiliki beberapa nilai kosong dan diisi dengan **median** (aman saat kita belum tahu distribusinya).\n"
   ]
  },
  {
   "cell_type": "code",
   "execution_count": 5,
   "id": "736750d2",
   "metadata": {},
   "outputs": [
    {
     "name": "stdout",
     "output_type": "stream",
     "text": [
      "Jumlah nilai kosong per kolom:\n",
      " magnitude    0\n",
      "cdi          0\n",
      "mmi          0\n",
      "sig          0\n",
      "nst          0\n",
      "dmin         0\n",
      "gap          0\n",
      "depth        0\n",
      "latitude     0\n",
      "longitude    0\n",
      "tsunami      0\n",
      "dtype: int64\n"
     ]
    }
   ],
   "source": [
    "# 1) Cek jumlah nilai kosong per kolom\n",
    "print(\"Jumlah nilai kosong per kolom:\\n\", df_tsunami2.isnull().sum()) "
   ]
  },
  {
   "cell_type": "code",
   "execution_count": 6,
   "id": "b9f57312",
   "metadata": {},
   "outputs": [
    {
     "name": "stdout",
     "output_type": "stream",
     "text": [
      "\n",
      "Median cdi: 5.0\n"
     ]
    }
   ],
   "source": [
    "# 2) Contoh pengisian: gunakan median untuk kolom 'texture_mean' (jika ada)\n",
    "median_chole = df_tsunami2['cdi'].median()\n",
    "df_tsunami2['cdi'] = df_tsunami2['cdi'].fillna(median_chole)\n",
    "print(\"\\nMedian cdi:\", median_chole)\n",
    "#karena dataset yang kami miliki tidak memiliki data kosong/NaN/NULL maka kami mengambil salah satu contoh penangan jika ada data kosong di cdi"
   ]
  },
  {
   "cell_type": "code",
   "execution_count": 7,
   "id": "b46efe05",
   "metadata": {},
   "outputs": [
    {
     "name": "stdout",
     "output_type": "stream",
     "text": [
      "\n",
      "Setelah inputasi, nilai kosong per kolom:\n",
      " magnitude    0\n",
      "cdi          0\n",
      "mmi          0\n",
      "sig          0\n",
      "nst          0\n",
      "dmin         0\n",
      "gap          0\n",
      "depth        0\n",
      "latitude     0\n",
      "longitude    0\n",
      "tsunami      0\n",
      "dtype: int64\n"
     ]
    }
   ],
   "source": [
    "# 3) Validasi ulang\n",
    "print(\"\\nSetelah inputasi, nilai kosong per kolom:\\n\", df_tsunami2.isnull().sum())"
   ]
  },
  {
   "cell_type": "markdown",
   "id": "11d5a8d1",
   "metadata": {},
   "source": [
    "### **Pembersihan Data (Bagian 3): Cek & Hapus Duplikat**\n",
    "- Data yang **kembar** dapat merusak evaluasi model.\n",
    "- Kita cek duplikat lalu **drop** agar setiap baris unik.\n"
   ]
  },
  {
   "cell_type": "code",
   "execution_count": 8,
   "id": "d0913ac8",
   "metadata": {},
   "outputs": [
    {
     "name": "stdout",
     "output_type": "stream",
     "text": [
      "Jumlah baris duplikat (terhitung ganda): 0\n",
      "Bentuk data sebelum/ setelah hapus duplikat: (782, 11) -> (782, 11)\n"
     ]
    }
   ],
   "source": [
    "before = df_tsunami2.shape\n",
    "dupes = df_tsunami2[df_tsunami2.duplicated(keep=False)]\n",
    "print(f\"Jumlah baris duplikat (terhitung ganda): {dupes.shape[0]}\")\n",
    "df_tsunami3 = df_tsunami2.drop_duplicates(keep='first')\n",
    "print(\"Bentuk data sebelum/ setelah hapus duplikat:\", before, \"->\", df_tsunami3.shape)"
   ]
  },
  {
   "cell_type": "markdown",
   "id": "87f36681",
   "metadata": {},
   "source": [
    "### **Pembersihan Data (Bagian 4): Cek Outlier**\n",
    "- Data yang **Outlier** dapat merusak evaluasi model.\n",
    "- Kenapa tidak dihapus? karena itu adalah fenomena nyata dan **Penting** untuk klasifikasi.\n"
   ]
  },
  {
   "cell_type": "code",
   "execution_count": 9,
   "id": "3867eae7",
   "metadata": {},
   "outputs": [
    {
     "name": "stdout",
     "output_type": "stream",
     "text": [
      "Pengecekan outlier untuk setiap fitur numerik:\n",
      "\n",
      "magnitude: 37 outlier\n",
      "cdi: 0 outlier\n",
      "mmi: 1 outlier\n",
      "sig: 73 outlier\n",
      "nst: 0 outlier\n",
      "dmin: 61 outlier\n",
      "gap: 48 outlier\n",
      "depth: 139 outlier\n",
      "latitude: 0 outlier\n",
      "longitude: 0 outlier\n"
     ]
    }
   ],
   "source": [
    "numeric_cols = df_tsunami3.select_dtypes(include=np.number).columns\n",
    "\n",
    "print(\"Pengecekan outlier untuk setiap fitur numerik:\\n\")\n",
    "for col in numeric_cols:\n",
    "    Q1 = df_tsunami3[col].quantile(0.25)\n",
    "    Q3 = df_tsunami3[col].quantile(0.75)\n",
    "    IQR = Q3 - Q1\n",
    "    outliers = ((df_tsunami3[col] < (Q1 - 1.5 * IQR)) | (df_tsunami3[col] > (Q3 + 1.5 * IQR))).sum()\n",
    "    print(f\"{col}: {outliers} outlier\")"
   ]
  },
  {
   "cell_type": "code",
   "execution_count": 10,
   "id": "58e5cbaa",
   "metadata": {},
   "outputs": [
    {
     "name": "stdout",
     "output_type": "stream",
     "text": [
      "\n",
      "Jumlah data sebelum: 782\n",
      "\n",
      "Jumlah data sesudah : 478\n",
      "Pengecekan outlier untuk setiap fitur numerik:\n",
      "\n",
      "magnitude: 17 outlier\n",
      "cdi: 0 outlier\n",
      "mmi: 0 outlier\n",
      "sig: 26 outlier\n",
      "nst: 0 outlier\n",
      "dmin: 35 outlier\n",
      "gap: 5 outlier\n",
      "depth: 21 outlier\n",
      "latitude: 4 outlier\n",
      "longitude: 13 outlier\n"
     ]
    }
   ],
   "source": [
    "# Tangani outlier depth dengan batas atas\n",
    "df_tsunami3['depth'] = np.where(df_tsunami3['depth'] > 700, 700, df_tsunami3['depth'])\n",
    "df_tsunami4 = df_tsunami3.copy()\n",
    "\n",
    "# Hapus outlier di semua kolom numerik\n",
    "for col in numeric_cols:\n",
    "    Q1 = df_tsunami3[col].quantile(0.25)\n",
    "    Q3 = df_tsunami3[col].quantile(0.75)\n",
    "    IQR = Q3 - Q1\n",
    "    lower = Q1 - 1.5 * IQR\n",
    "    upper = Q3 + 1.5 * IQR\n",
    "    df_tsunami4 = df_tsunami4[(df_tsunami4[col] >= lower) & (df_tsunami4[col] <= upper)]\n",
    "\n",
    "print(\"\\nJumlah data sebelum:\", len(df_tsunami3))\n",
    "print(\"\\nJumlah data sesudah :\", len(df_tsunami4))\n",
    "\n",
    "print(\"Pengecekan outlier untuk setiap fitur numerik:\\n\")\n",
    "for col in numeric_cols:\n",
    "    Q1 = df_tsunami4[col].quantile(0.25)\n",
    "    Q3 = df_tsunami4[col].quantile(0.75)\n",
    "    IQR = Q3 - Q1\n",
    "    outliers = ((df_tsunami4[col] < (Q1 - 1.5 * IQR)) | (df_tsunami4[col] > (Q3 + 1.5 * IQR))).sum()\n",
    "    print(f\"{col}: {outliers} outlier\")\n"
   ]
  },
  {
   "cell_type": "markdown",
   "id": "c93d01e2",
   "metadata": {},
   "source": [
    "###  **Encode Label**\n",
    "\n",
    "- **Tujuan:** Mengubah kolom `diagnosis` dari huruf menjadi angka agar bisa diproses oleh model ML.  \n",
    "  - `berpotensi` → 1 (**berpotensi tsunami**)  \n",
    "  - `tidak` → 0 (**tidak berpotensi tsunami**)\n"
   ]
  },
  {
   "cell_type": "code",
   "execution_count": 11,
   "id": "5f31cce9",
   "metadata": {},
   "outputs": [],
   "source": [
    "# Mengubah label tsunami dari huruf menjadi angka:\n",
    "df_tsunami4['tsunami'] = df_tsunami4['tsunami'].map({'berpotensi': 1, 'tidak':0})"
   ]
  },
  {
   "cell_type": "markdown",
   "id": "97b59d9b",
   "metadata": {},
   "source": [
    "### **Pembagian Data: Train/Test Split**\n",
    "\n",
    "- **X**: semua fitur kecuali label target.  \n",
    "- **y**: kolom target, yaitu `tsunami` (1 = Ya)\n",
    " atau (0 = Tidak )\n",
    "- Kita pakai **30%** data untuk **test** dan sisanya untuk **train**.\n"
   ]
  },
  {
   "cell_type": "code",
   "execution_count": 12,
   "id": "91bf84f6",
   "metadata": {},
   "outputs": [],
   "source": [
    "# Menentukan X sebagai fitur (semua kolom kecuali tsunami)\n",
    "X = df_tsunami4.drop(columns=['tsunami'])\n",
    "\n",
    "# Menentukan y sebagai target (kolom tsunami)\n",
    "y = df_tsunami4['tsunami']"
   ]
  },
  {
   "cell_type": "code",
   "execution_count": 13,
   "id": "8a8f4d7c",
   "metadata": {},
   "outputs": [
    {
     "name": "stdout",
     "output_type": "stream",
     "text": [
      "Ukuran X_train, X_test: (382, 10) (96, 10)\n"
     ]
    }
   ],
   "source": [
    "X_train, X_test, y_train, y_test = train_test_split(\n",
    "    X, y, test_size=0.20, random_state = 98, stratify=y\n",
    ")                                                          \n",
    "\n",
    "print(\"Ukuran X_train, X_test:\", X_train.shape, X_test.shape)\n"
   ]
  },
  {
   "cell_type": "markdown",
   "id": "3a79f2fe",
   "metadata": {},
   "source": [
    "####  **Membangun Model Random Forest dengan Pipeline + GridSearchCV**\n",
    "\n",
    "Pada bagian ini, kita akan membangun model **Random Forest Classifier** — salah satu algoritma ensemble paling populer dan kuat untuk tugas klasifikasi.\n",
    "\n",
    "###  Konsep Singkat Random Forest:\n",
    "Random Forest bekerja dengan membangun **banyak pohon keputusan (decision trees)** secara acak, kemudian menggabungkan hasilnya untuk menghasilkan prediksi akhir yang lebih stabil dan akurat.  \n",
    "-> Semakin banyak pohon, semakin kuat generalisasi model, meski waktu komputasi juga meningkat.\n",
    "\n",
    "###  Alur Pipeline:\n",
    "1. **Scaling (MinMaxScaler vs StandardScaler)**  \n",
    "   Tidak wajib untuk Random Forest (karena berbasis pohon), tetapi tetap digunakan agar pipeline konsisten dengan model lain seperti SVM atau Logistic Regression.\n",
    "2. **Feature Selection (SelectKBest vs SelectPercentile)**  \n",
    "   Menyaring fitur yang paling berpengaruh terhadap target:  \n",
    "   - `SelectKBest`: memilih *jumlah fitur terbaik (k)*  \n",
    "   - `SelectPercentile`: memilih *persentase fitur terbaik (%)*  \n",
    "3. **Model (RandomForestClassifier)**  \n",
    "   Parameter penting yang diuji:\n",
    "   - `n_estimators`: jumlah pohon dalam hutan  \n",
    "   - `max_depth`: kedalaman maksimum tiap pohon  \n",
    "   - `min_samples_split`: jumlah minimum sampel agar cabang pohon dapat dipecah  \n",
    "   - `class_weight='balanced'`: menyeimbangkan bobot antar kelas\n",
    "\n",
    "\n",
    "###  Tujuan GridSearchCV:\n",
    "Melakukan **pencarian otomatis kombinasi parameter terbaik** untuk menghasilkan model dengan performa optimal,  \n",
    "dengan evaluasi menggunakan **5-fold Stratified Cross Validation** dan metrik **F1-score**.\n",
    "\n",
    "Output dari cell ini:\n",
    "- Model Random Forest terbaik  \n",
    "- Waktu komputasi total  \n",
    "- Parameter optimal hasil pencarian GridSearch\n"
   ]
  },
  {
   "cell_type": "code",
   "execution_count": 14,
   "id": "f5a7d0f6",
   "metadata": {},
   "outputs": [
    {
     "name": "stdout",
     "output_type": "stream",
     "text": [
      "Menjalankan GridSearch untuk Random Forest...\n",
      "Fitting 5 folds for each of 378 candidates, totalling 1890 fits\n",
      "GridSearch Random Forest selesai dalam 62.66 detik\n"
     ]
    }
   ],
   "source": [
    "# ============================================================\n",
    "#  PIPELINE: Scaling → Feature Selection → Random Forest\n",
    "# ============================================================\n",
    "\n",
    "\n",
    "# Rancang pipeline: gabungkan scaling, seleksi fitur, dan model Random Forest\n",
    "pipe_rf = Pipeline(steps=[      \n",
    "    ('feat_select', SelectKBest()),              \n",
    "    ('clf', RandomForestClassifier(      \n",
    "        class_weight='balanced', \n",
    "        random_state=98,           \n",
    "        n_estimators=-1                     \n",
    "    ))\n",
    "])\n",
    "\n",
    "# GridSearch: dua jenis seleksi fitur (KBest dan Percentile) dengan kombinasi parameter model\n",
    "params_grid_rf = [\n",
    "    # Kandidat 1: pakai SelectKBest\n",
    "    {\n",
    "        'feat_select': [SelectKBest()],\n",
    "        'feat_select__k': np.arange(1, 10),        # jumlah fitur terbaik yang diuji\n",
    "        'clf__n_estimators': [100, 300, 500],      # jumlah pohon\n",
    "        'clf__max_depth': [None, 5, 10],           # batas kedalaman tiap pohon\n",
    "        'clf__min_samples_split': [2, 5, 10]       # jumlah minimal sampel untuk split node\n",
    "    },\n",
    "    # Kandidat 2: pakai SelectPercentile\n",
    "    {\n",
    "        'feat_select': [SelectPercentile()],\n",
    "        'feat_select__percentile': np.arange(30, 80, 10),\n",
    "        'clf__n_estimators': [100, 300, 500],\n",
    "        'clf__max_depth': [None, 5, 10],\n",
    "        'clf__min_samples_split': [2, 5, 10]\n",
    "    }\n",
    "]\n",
    "\n",
    "# StratifiedKFold: memastikan proporsi kelas tetap sama di setiap fold CV\n",
    "SKF = StratifiedKFold(n_splits=5, shuffle=True, random_state=98) \n",
    "\n",
    "# Jalankan GridSearchCV: mencari kombinasi parameter terbaik dengan metrik F1\n",
    "\n",
    "gscv_rf = GridSearchCV(\n",
    "    pipe_rf,                \n",
    "    params_grid_rf,         \n",
    "    cv=SKF,         \n",
    "    scoring='f1',     \n",
    "    verbose=1,        \n",
    "    n_jobs=-1         \n",
    ")\n",
    "\n",
    "print(\"Menjalankan GridSearch untuk Random Forest...\")\n",
    "start = time.time()\n",
    "\n",
    "gscv_rf.fit(X_train, y_train) \n",
    "\n",
    "print(f\"GridSearch Random Forest selesai dalam {time.time() - start:.2f} detik\")\n"
   ]
  },
  {
   "cell_type": "markdown",
   "id": "11227b1a",
   "metadata": {},
   "source": [
    "###  **Evaluasi Model Random Forest**\n",
    "\n",
    "Setelah GridSearchCV selesai, langkah berikutnya adalah **mengevaluasi performa model terbaik** yang ditemukan terhadap data uji.\n",
    "\n",
    "###  Langkah Evaluasi:\n",
    "1. **Menampilkan hasil terbaik dari GridSearchCV**\n",
    "   - Nilai *Cross Validation (CV) F1-score* tertinggi  \n",
    "   - Kombinasi parameter terbaik (jumlah pohon, kedalaman, dan jumlah fitur)\n",
    "2. **Mengukur akurasi pada data uji (test set)**  \n",
    "   Untuk menilai seberapa baik model mampu mengeneralisasi data baru.\n",
    "3. **Menampilkan fitur yang terpilih**\n",
    "   - Menggunakan `get_support()` untuk mengetahui fitur mana yang dianggap paling relevan oleh model.\n",
    "4. **Menampilkan Confusion Matrix**\n",
    "   - Visualisasi perbandingan prediksi dan label sebenarnya.  \n",
    "   - Warna hijau digunakan untuk membedakan hasil Random Forest dari model lain.\n",
    "5. **Menampilkan Classification Report**\n",
    "   - Metrik lengkap: *precision*, *recall*, *f1-score*, dan *support* tiap kelas.\n",
    "   - Membantu memahami keseimbangan performa model dalam mendeteksi kedua kelas (sehat vs sakit).\n",
    "\n",
    ">  Tujuan utama evaluasi ini adalah memastikan model **tidak hanya akurat**,  \n",
    "> tetapi juga **mampu mengenali kedua kelas secara seimbang**, terutama jika data sedikit tidak seimbang.\n"
   ]
  },
  {
   "cell_type": "code",
   "execution_count": 15,
   "id": "f893a500",
   "metadata": {},
   "outputs": [
    {
     "name": "stdout",
     "output_type": "stream",
     "text": [
      "CV Score (F1) terbaik: 0.890196187757408\n",
      "Kombinasi model terbaik: Pipeline(steps=[('feat_select', SelectKBest(k=np.int64(8))),\n",
      "                ('clf',\n",
      "                 RandomForestClassifier(class_weight='balanced',\n",
      "                                        random_state=98))])\n",
      "\n",
      "Skor Test (akurasi) Random Forest: 0.8958333333333334\n",
      "\n",
      "Fitur terbaik (terpilih): ['cdi' 'mmi' 'sig' 'nst' 'dmin' 'gap' 'latitude' 'longitude']\n"
     ]
    },
    {
     "data": {
      "image/png": "[encoded data removed]",
      "text/plain": [
       "<Figure size 640x480 with 2 Axes>"
      ]
     },
     "metadata": {},
     "output_type": "display_data"
    },
    {
     "name": "stdout",
     "output_type": "stream",
     "text": [
      "\n",
      "Classification Report — Random Forest:\n",
      "               precision    recall  f1-score   support\n",
      "\n",
      "           0       0.92      0.92      0.92        64\n",
      "           1       0.84      0.84      0.84        32\n",
      "\n",
      "    accuracy                           0.90        96\n",
      "   macro avg       0.88      0.88      0.88        96\n",
      "weighted avg       0.90      0.90      0.90        96\n",
      "\n"
     ]
    }
   ],
   "source": [
    "#  Evaluasi hasil GridSearch\n",
    "print(\"CV Score (F1) terbaik:\", gscv_rf.best_score_)\n",
    "print(\"Kombinasi model terbaik:\", gscv_rf.best_estimator_) \n",
    "\n",
    "rf_test_score = gscv_rf.best_estimator_.score(X_test, y_test)\n",
    "print(\"\\nSkor Test (akurasi) Random Forest:\", rf_test_score)\n",
    "\n",
    "#  Fitur terbaik (jika selector mendukung get_support)\n",
    "selector = gscv_rf.best_estimator_.named_steps['feat_select']\n",
    "if hasattr(selector, 'get_support'):\n",
    "    mask = selector.get_support()\n",
    "    selected = np.array(X.columns)[mask]\n",
    "    print(\"\\nFitur terbaik (terpilih):\", selected)\n",
    "\n",
    "\n",
    "#  Confusion Matrix & Classification Report\n",
    "rf_pred = gscv_rf.predict(X_test) \n",
    "cm_rf = confusion_matrix(y_test, rf_pred)\n",
    "disp_rf = ConfusionMatrixDisplay(confusion_matrix=cm_rf, display_labels=['0 = tidak','1 = berpotensi']) \n",
    "disp_rf.plot(cmap=plt.cm.Greens)\n",
    "plt.title(\"Confusion Matrix — Random Forest\")\n",
    "plt.show()\n",
    "\n",
    "# Silakan diisi bagian ini dengan kode yang tepat ()\n",
    "print(\"\\nClassification Report — Random Forest:\\n\", classification_report(y_test, rf_pred))\n"
   ]
  },
  {
   "cell_type": "markdown",
   "id": "3299c369",
   "metadata": {},
   "source": [
    "### 📊 Interpretasi:\n",
    "\n",
    "- Random Forest memberikan akurasi 90% dan keseimbangan precision–recall yang baik.\n",
    "\n",
    "- Model ini relatif stabil terhadap outlier dan noise, cocok untuk dataset bencana alam yang fluktuatif.\n",
    "\n",
    "- Jumlah false positive dan false negative sama (5 kasus masing-masing) → artinya seimbang dalam mendeteksi kedua kelas."
   ]
  },
  {
   "cell_type": "markdown",
   "id": "95a5ccf5",
   "metadata": {},
   "source": [
    "###  **Membangun Model Logistic Regression dengan Pipeline + GridSearchCV**\n",
    "\n",
    "Langkah ini bertujuan untuk membangun model **klasifikasi Logistic Regression** secara sistematis menggunakan **pipeline** dan **GridSearchCV**.\n",
    "\n",
    "#### ⚙️ **Alur Pipeline**\n",
    "\n",
    "1. **Scaling (StandardScaler vs MinMaxScaler)**  \n",
    "   Scaling digunakan untuk menyeragamkan rentang nilai antar fitur agar model dapat belajar secara stabil.  \n",
    "   - `StandardScaler` mengubah data menjadi distribusi dengan **rata-rata 0 dan standar deviasi 1**.  \n",
    "   - `MinMaxScaler` menyesuaikan data dalam **rentang [0,1]**.  \n",
    "   Proses scaling ini penting karena *Logistic Regression* merupakan model linear yang **peka terhadap perbedaan skala fitur**, sehingga bobot koefisien yang dihasilkan tetap proporsional.\n",
    "\n",
    "2. **Feature Selection (SelectKBest vs SelectPercentile)**  \n",
    "   Tahapan ini bertujuan untuk **memilih fitur paling relevan** terhadap variabel target.  \n",
    "   - `SelectKBest` memilih *k fitur terbaik* berdasarkan skor statistik tertentu (`f_classif`).  \n",
    "   - `SelectPercentile` memilih *persentase fitur terbaik* (misalnya 30–80%) berdasarkan skor relevansi.  \n",
    "   Kedua metode ini dibandingkan dalam **GridSearchCV** untuk menentukan kombinasi fitur yang menghasilkan performa klasifikasi terbaik.\n",
    "\n",
    "3. **Model (LogisticRegression)**  \n",
    "   Logistic Regression merupakan **model linear untuk klasifikasi biner**, yang memprediksi probabilitas suatu kelas dengan menggabungkan fitur-fitur input secara linear.  \n",
    "   Parameter yang dioptimasi:  \n",
    "   - `penalty`: menentukan jenis regularisasi (L1 atau L2) untuk mencegah overfitting.  \n",
    "   - `C`: mengatur kekuatan regularisasi (nilai kecil = regularisasi kuat).  \n",
    "   - `solver='liblinear'`: algoritme optimasi yang mendukung penalti L1 dan L2.  \n",
    "   Selain itu, digunakan `class_weight='balanced'` untuk mengatasi ketidakseimbangan jumlah kelas pada dataset tsunami.\n",
    "\n",
    "\n",
    "####  Tujuan GridSearchCV:\n",
    "- **Mencari kombinasi parameter terbaik** untuk menghasilkan performa optimal.  \n",
    "- Evaluasi dilakukan dengan **5-fold Stratified Cross Validation**,  \n",
    "  menggunakan metrik **F1-score** (seimbang antara presisi dan recall).\n",
    "\n",
    "Setelah pipeline dan parameter grid disiapkan, dilakukan proses pelatihan (`fit`) untuk menemukan model Logistic Regression terbaik.\n"
   ]
  },
  {
   "cell_type": "code",
   "execution_count": 16,
   "id": "77a828c2",
   "metadata": {},
   "outputs": [
    {
     "name": "stdout",
     "output_type": "stream",
     "text": [
      "Menjalankan GridSearch untuk Logistic Regression...\n",
      "Fitting 5 folds for each of 240 candidates, totalling 1200 fits\n",
      "GridSearch Logistic Regression selesai dalam 1.08 detik\n"
     ]
    }
   ],
   "source": [
    "# PIPELINE: Scaling → Feature Selection → Logistic Regression\n",
    "\n",
    "# Rancang pipeline: gabungkan preprocessing + feature selection + model\n",
    "pipe_lr = Pipeline(steps=[\n",
    "  \t('scaler', MinMaxScaler()),\n",
    "    ('feat_select', SelectKBest()),\n",
    "    ('clf', LogisticRegression(      # model klasifikasi\n",
    "        class_weight='balanced', \n",
    "        solver='liblinear', \n",
    "        max_iter=500              \n",
    "    ))\n",
    "])\n",
    "\n",
    "# GridSearch: daftar kombinasi parameter yang akan diuji\n",
    "params_grid_lr = [\n",
    "    {\n",
    "        'scaler': [StandardScaler(), MinMaxScaler()],\n",
    "        'feat_select': [SelectKBest()], \n",
    "        'feat_select__k': np.arange(1, 10),             # jumlah fitur terbaik yang dicoba\n",
    "        'clf__penalty': ['l1', 'l2'],                   # jenis regularisasi\n",
    "        'clf__C': [0.01, 0.1, 1, 10],                   # kekuatan regularisasi\n",
    "    },\n",
    "    {\n",
    "        'scaler': [StandardScaler(), MinMaxScaler()],\n",
    "        'feat_select': [SelectPercentile()],                # alternatif: seleksi berdasar persentase\n",
    "        'feat_select__percentile': np.arange(20, 80, 10),\n",
    "        'clf__penalty': ['l1', 'l2'],\n",
    "        'clf__C': [0.01, 0.1, 1, 10],\n",
    "    }\n",
    "]\n",
    "\n",
    "# Stratified K-Fold: menjaga proporsi label seimbang di setiap fold CV\n",
    "SKF = StratifiedKFold(n_splits=5, shuffle=True, random_state=98)\n",
    "\n",
    "# Jalankan GridSearchCV untuk mencari kombinasi parameter terbaik\n",
    "gscv_lr = GridSearchCV(\n",
    "    pipe_lr,\n",
    "    params_grid_lr,\n",
    "    cv=SKF,\n",
    "    scoring='f1',       # metrik utama: F1-score\n",
    "    verbose=1,          # tampilkan progres selama proses\n",
    "    n_jobs=-1           # gunakan semua core CPU\n",
    ")\n",
    "\n",
    "print(\"Menjalankan GridSearch untuk Logistic Regression...\")\n",
    "start = time.time()\n",
    "gscv_lr.fit(X_train, y_train)\n",
    "print(f\"GridSearch Logistic Regression selesai dalam {time.time() - start:.2f} detik\")\n"
   ]
  },
  {
   "cell_type": "markdown",
   "id": "ce30ef24",
   "metadata": {},
   "source": [
    "###  **Evaluasi Model Logistic Regression**\n",
    "\n",
    "Setelah proses *Grid Search* selesai, langkah berikutnya adalah **mengevaluasi performa model terbaik** yang ditemukan.\n",
    "\n",
    "####  Langkah Evaluasi:\n",
    "1. **Menampilkan hasil terbaik dari GridSearchCV**\n",
    "   - Nilai *Cross Validation (CV) F1-score* tertinggi\n",
    "   - Kombinasi parameter terbaik (fitur, penalti, dan nilai C)\n",
    "2. **Menghitung akurasi pada data uji (test set)**  \n",
    "   Untuk mengetahui seberapa baik model mengeneralisasi pada data baru.\n",
    "3. **Melihat fitur yang terpilih**\n",
    "   - Menggunakan metode `get_support()` dari *feature selector* untuk menampilkan fitur-fitur penting.\n",
    "4. **Menampilkan Confusion Matrix**\n",
    "   - Visualisasi hasil prediksi model terhadap label asli.\n",
    "   - Memberi gambaran kesalahan klasifikasi antar kelas.\n",
    "5. **Menampilkan Classification Report**\n",
    "   - Metrik lengkap: *precision, recall, f1-score,* dan *support* untuk setiap kelas.\n",
    "   - Membantu memahami performa model dalam konteks keseimbangan antara deteksi positif dan negatif.\n",
    "\n",
    ">  Tujuan akhirnya adalah memastikan bahwa model Logistic Regression tidak hanya akurat,\n",
    "> tetapi juga **seimbang dalam mendeteksi kedua kelas** (0 = Tidak, 1 = Tsunami).\n"
   ]
  },
  {
   "cell_type": "code",
   "execution_count": 17,
   "id": "db4ca7a9",
   "metadata": {},
   "outputs": [
    {
     "name": "stdout",
     "output_type": "stream",
     "text": [
      "CV Score (F1) terbaik: 0.8347319843347648\n",
      "Kombinasi model terbaik: Pipeline(steps=[('scaler', MinMaxScaler()),\n",
      "                ('feat_select', SelectKBest(k=np.int64(3))),\n",
      "                ('clf',\n",
      "                 LogisticRegression(C=0.1, class_weight='balanced',\n",
      "                                    max_iter=500, solver='liblinear'))])\n",
      "\n",
      "Skor Test (akurasi) Logistic Regression: 0.8229166666666666\n",
      "\n",
      "Fitur terbaik (terpilih): ['cdi' 'nst' 'dmin']\n"
     ]
    },
    {
     "data": {
      "image/png": "[encoded data removed]",
      "text/plain": [
       "<Figure size 640x480 with 2 Axes>"
      ]
     },
     "metadata": {},
     "output_type": "display_data"
    },
    {
     "name": "stdout",
     "output_type": "stream",
     "text": [
      "\n",
      "Classification Report — Logistic Regression:\n",
      "               precision    recall  f1-score   support\n",
      "\n",
      "           0       0.93      0.80      0.86        64\n",
      "           1       0.68      0.88      0.77        32\n",
      "\n",
      "    accuracy                           0.82        96\n",
      "   macro avg       0.81      0.84      0.81        96\n",
      "weighted avg       0.85      0.82      0.83        96\n",
      "\n"
     ]
    }
   ],
   "source": [
    "# Tampilkan hasil terbaik dari GridSearch\n",
    "print(\"CV Score (F1) terbaik:\", gscv_lr.best_score_)\n",
    "print(\"Kombinasi model terbaik:\", gscv_lr.best_estimator_)\n",
    "\n",
    "# Hitung akurasi model terbaik pada data uji\n",
    "lr_test_score = gscv_lr.best_estimator_.score(X_test, y_test)\n",
    "print(\"\\nSkor Test (akurasi) Logistic Regression:\", lr_test_score)\n",
    "\n",
    "# Tampilkan fitur terbaik (jika feature selector mendukung metode get_support)\n",
    "selector = gscv_lr.best_estimator_.named_steps['feat_select']\n",
    "if hasattr(selector, 'get_support'):\n",
    "    mask = selector.get_support()\n",
    "    selected = np.array(X.columns)[mask]\n",
    "    print(\"\\nFitur terbaik (terpilih):\", selected)\n",
    "\n",
    "# Buat prediksi pada data uji dan tampilkan Confusion Matrix\n",
    "lr_pred = gscv_lr.predict(X_test)\n",
    "cm_lr = confusion_matrix(y_test, lr_pred)\n",
    "disp_lr = ConfusionMatrixDisplay(confusion_matrix=cm_lr, display_labels=['0 = tidak','1 = berpotensi'])\n",
    "disp_lr.plot(cmap=plt.cm.Blues)\n",
    "plt.title(\"Confusion Matrix — Logistic Regression\")\n",
    "plt.show()\n",
    "\n",
    "# Tampilkan classification report (precision, recall, f1-score)\n",
    "print(\"\\nClassification Report — Logistic Regression:\\n\", classification_report(y_test, lr_pred))\n"
   ]
  },
  {
   "cell_type": "markdown",
   "id": "7fa41005",
   "metadata": {},
   "source": [
    "### **Langkah Akhir — Visualisasi Perbandingan Dua Model Terbaik**\n",
    "\n",
    "Pada tahap ini, kita akan membandingkan **hasil klasifikasi dari dua model terbaik** yang telah dibangun menggunakan **Pipeline + GridSearchCV**:\n",
    "\n",
    "- **Logistic Regression** → dengan optimasi regularisasi (`penalty`, `C`) dan seleksi fitur terbaik\n",
    "- **Random Forest** → dengan optimasi jumlah pohon (`n_estimators`), kedalaman maksimum (`max_depth`), dan fitur terbaik  \n",
    "\n",
    "#### **Tujuan:**\n",
    "Menampilkan **Confusion Matrix** dari dua model secara berdampingan, agar kita dapat:\n",
    "- Membandingkan pola kesalahan klasifikasi tiap model.  \n",
    "- Melihat model mana yang **paling akurat** dan **paling seimbang** dalam mengenali kedua kelas:  \n",
    "  - `0 = Tidak`  \n",
    "  - `1 = Tsunami`  "
   ]
  },
  {
   "cell_type": "code",
   "execution_count": 18,
   "id": "57c0b9c5",
   "metadata": {},
   "outputs": [
    {
     "data": {
      "image/png": "[encoded data removed]",
      "text/plain": [
       "<Figure size 1600x400 with 2 Axes>"
      ]
     },
     "metadata": {},
     "output_type": "display_data"
    }
   ],
   "source": [
    "# Buat figure dengan 3 subplot berdampingan (1 baris, 3 kolom)\n",
    "fig, (ax1, ax2) = plt.subplots(ncols=2, figsize=(16, 4))\n",
    "\n",
    "\n",
    "# Plot Confusion Matrix untuk Random Forest\n",
    "disp_rf.plot(ax=ax2, cmap=plt.cm.Greens, colorbar=False)\n",
    "ax2.set_title(\"Random Forest (Best Model)\") # judul subplot pertama\n",
    "\n",
    "# Plot Confusion Matrix untuk Logistic Regression\n",
    "disp_lr.plot(ax=ax1, cmap=plt.cm.Blues, colorbar=False)\n",
    "ax1.set_title(\"Logistic Regression (L1)\")   # judul subplot kedua\n",
    "\n",
    "# Rapikan tata letak agar subplot tidak tumpang tindih\n",
    "plt.tight_layout()\n",
    "plt.show()  # tampilkan semua plot\n"
   ]
  },
  {
   "cell_type": "code",
   "execution_count": 19,
   "id": "fb2addc6",
   "metadata": {},
   "outputs": [
    {
     "name": "stdout",
     "output_type": "stream",
     "text": [
      "\n",
      "✅ Model terbaik: RandomForest\n",
      "✅ File tersimpan sebagai: BestModel_RandomForest_KERAS.pkl\n"
     ]
    }
   ],
   "source": [
    "import pickle\n",
    "acc_rf = accuracy_score(y_test, rf_pred)\n",
    "acc_lr = accuracy_score(y_test, lr_pred)\n",
    "\n",
    "if acc_rf >= acc_lr:\n",
    "    best_model = gscv_rf.best_estimator_\n",
    "    best_name = \"RandomForest\"\n",
    "else:\n",
    "    best_model = gscv_lr.best_estimator_\n",
    "    best_name = \"LogisticRegression\"\n",
    "\n",
    "with open(f\"model/BestModel_CLF_{best_name}_KERAS.pkl\", \"wb\") as f:\n",
    "    pickle.dump(best_model, f)\n",
    "\n",
    "print(f\"\\n✅ Model terbaik: {best_name}\")\n",
    "print(f\"✅ File tersimpan sebagai: BestModel_{best_name}_KERAS.pkl\")"
   ]
  }
 ],
 "metadata": {
  "kernelspec": {
   "display_name": ".venv (3.12.8)",
   "language": "python",
   "name": "python3"
  },
  "language_info": {
   "codemirror_mode": {
    "name": "ipython",
    "version": 3
   },
   "file_extension": ".py",
   "mimetype": "text/x-python",
   "name": "python",
   "nbconvert_exporter": "python",
   "pygments_lexer": "ipython3",
   "version": "3.12.8"
  }
 },
 "nbformat": 4,
 "nbformat_minor": 5
}
